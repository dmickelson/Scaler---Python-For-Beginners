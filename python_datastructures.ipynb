{
 "cells": [
  {
   "cell_type": "markdown",
   "metadata": {},
   "source": [
    "# Datastructures"
   ]
  },
  {
   "cell_type": "markdown",
   "metadata": {},
   "source": [
    "### Lists\n",
    "* **Ordered** collection of data\n",
    "* **Mutable** type of Data Structure\n",
    "* **Hetrogenious** - Can contain **Multple Types** of data\n",
    "* **Iterable**"
   ]
  },
  {
   "cell_type": "code",
   "execution_count": 19,
   "metadata": {},
   "outputs": [
    {
     "name": "stdout",
     "output_type": "stream",
     "text": [
      "[1, 'one', 5, 'cat']\n",
      "<class 'list'>\n",
      "4\n",
      "cat\n",
      "cat\n",
      "<class 'list'>\n",
      "0\n"
     ]
    }
   ],
   "source": [
    "# Creation of lists\n",
    "templist =[1,\"one\",5,\"cat\"]\n",
    "print(templist)\n",
    "print(type(templist))\n",
    "print(len(templist))\n",
    "print(templist[3])\n",
    "print(templist[-1])\n",
    "# or\n",
    "templist2 = list()\n",
    "print(type(templist2))\n",
    "print(len(templist2))"
   ]
  },
  {
   "cell_type": "code",
   "execution_count": 21,
   "metadata": {},
   "outputs": [
    {
     "ename": "IndexError",
     "evalue": "list assignment index out of range",
     "output_type": "error",
     "traceback": [
      "\u001b[1;31m---------------------------------------------------------------------------\u001b[0m",
      "\u001b[1;31mIndexError\u001b[0m                                Traceback (most recent call last)",
      "Cell \u001b[1;32mIn[21], line 2\u001b[0m\n\u001b[0;32m      1\u001b[0m \u001b[38;5;66;03m# mutability\u001b[39;00m\n\u001b[1;32m----> 2\u001b[0m \u001b[43mtemplist2\u001b[49m\u001b[43m[\u001b[49m\u001b[38;5;241;43m0\u001b[39;49m\u001b[43m]\u001b[49m \u001b[38;5;241m=\u001b[39m \u001b[38;5;124m\"\u001b[39m\u001b[38;5;124mblue\u001b[39m\u001b[38;5;124m\"\u001b[39m\n",
      "\u001b[1;31mIndexError\u001b[0m: list assignment index out of range"
     ]
    }
   ],
   "source": [
    "# mutability\n",
    "templist2[0] = \"blue\""
   ]
  },
  {
   "cell_type": "code",
   "execution_count": 24,
   "metadata": {},
   "outputs": [
    {
     "name": "stdout",
     "output_type": "stream",
     "text": [
      "['blue', 'blue']\n"
     ]
    }
   ],
   "source": [
    "templist2.append(\"blue\")\n",
    "print(templist2)"
   ]
  },
  {
   "cell_type": "code",
   "execution_count": 25,
   "metadata": {},
   "outputs": [
    {
     "name": "stdout",
     "output_type": "stream",
     "text": [
      "2101935370048\n"
     ]
    }
   ],
   "source": [
    "# mutability\n",
    "print(id(templist2))"
   ]
  },
  {
   "cell_type": "markdown",
   "metadata": {},
   "source": [
    "### List slicing\n",
    "* similar to string slicing\n",
    "* again, excludes \"end\" value in slicing"
   ]
  },
  {
   "cell_type": "code",
   "execution_count": 26,
   "metadata": {},
   "outputs": [
    {
     "data": {
      "text/plain": [
       "6"
      ]
     },
     "execution_count": 26,
     "metadata": {},
     "output_type": "execute_result"
    }
   ],
   "source": [
    "l = [2, 3, 5, 7, 9, 4]\n",
    "len(l)"
   ]
  },
  {
   "cell_type": "code",
   "execution_count": 28,
   "metadata": {},
   "outputs": [
    {
     "data": {
      "text/plain": [
       "[2, 3, 5]"
      ]
     },
     "execution_count": 28,
     "metadata": {},
     "output_type": "execute_result"
    }
   ],
   "source": [
    "l[0:3]"
   ]
  },
  {
   "cell_type": "code",
   "execution_count": 29,
   "metadata": {},
   "outputs": [
    {
     "data": {
      "text/plain": [
       "[4, 9, 7, 5, 3, 2]"
      ]
     },
     "execution_count": 29,
     "metadata": {},
     "output_type": "execute_result"
    }
   ],
   "source": [
    "l[::-1]"
   ]
  },
  {
   "cell_type": "code",
   "execution_count": 31,
   "metadata": {},
   "outputs": [
    {
     "data": {
      "text/plain": [
       "[7, 5, 3]"
      ]
     },
     "execution_count": 31,
     "metadata": {},
     "output_type": "execute_result"
    }
   ],
   "source": [
    "l[3: 0: -1]"
   ]
  },
  {
   "cell_type": "markdown",
   "metadata": {},
   "source": [
    "### List inbiult Methods\n",
    "* count - returns the count of an object\n",
    "* index - returns the index of **1st** occurence of an object\n",
    "* pop - **removes** and **returns** the last element of a list\n",
    "* remove - just **removes** object from list\n",
    "* sort - sorts the list\n",
    "* insert - adds an object at a given index\n",
    "* append - add an object to the end of a list\n",
    "* extend - Extend list by appending elements from the iterable."
   ]
  },
  {
   "cell_type": "code",
   "execution_count": 32,
   "metadata": {},
   "outputs": [],
   "source": [
    "budget = [100, 200, 150, 100,]"
   ]
  },
  {
   "cell_type": "code",
   "execution_count": 33,
   "metadata": {},
   "outputs": [
    {
     "data": {
      "text/plain": [
       "2"
      ]
     },
     "execution_count": 33,
     "metadata": {},
     "output_type": "execute_result"
    }
   ],
   "source": [
    "budget.count(100)"
   ]
  },
  {
   "cell_type": "code",
   "execution_count": 34,
   "metadata": {},
   "outputs": [
    {
     "data": {
      "text/plain": [
       "2"
      ]
     },
     "execution_count": 34,
     "metadata": {},
     "output_type": "execute_result"
    }
   ],
   "source": [
    "\n",
    "budget.index(150)"
   ]
  },
  {
   "cell_type": "code",
   "execution_count": 36,
   "metadata": {},
   "outputs": [
    {
     "ename": "ValueError",
     "evalue": "600 is not in list",
     "output_type": "error",
     "traceback": [
      "\u001b[1;31m---------------------------------------------------------------------------\u001b[0m",
      "\u001b[1;31mValueError\u001b[0m                                Traceback (most recent call last)",
      "Cell \u001b[1;32mIn[36], line 1\u001b[0m\n\u001b[1;32m----> 1\u001b[0m \u001b[43mbudget\u001b[49m\u001b[38;5;241;43m.\u001b[39;49m\u001b[43mindex\u001b[49m\u001b[43m(\u001b[49m\u001b[38;5;241;43m600\u001b[39;49m\u001b[43m)\u001b[49m\n",
      "\u001b[1;31mValueError\u001b[0m: 600 is not in list"
     ]
    }
   ],
   "source": [
    "budget.index(600)"
   ]
  },
  {
   "cell_type": "code",
   "execution_count": 37,
   "metadata": {},
   "outputs": [],
   "source": [
    "names = [\"john\", \"david\", \"bear\", \"turkey\"]"
   ]
  },
  {
   "cell_type": "code",
   "execution_count": 38,
   "metadata": {},
   "outputs": [
    {
     "data": {
      "text/plain": [
       "'turkey'"
      ]
     },
     "execution_count": 38,
     "metadata": {},
     "output_type": "execute_result"
    }
   ],
   "source": [
    "names.pop()"
   ]
  },
  {
   "cell_type": "code",
   "execution_count": 39,
   "metadata": {},
   "outputs": [
    {
     "data": {
      "text/plain": [
       "['john', 'david', 'bear']"
      ]
     },
     "execution_count": 39,
     "metadata": {},
     "output_type": "execute_result"
    }
   ],
   "source": [
    "names"
   ]
  },
  {
   "cell_type": "code",
   "execution_count": 40,
   "metadata": {},
   "outputs": [],
   "source": [
    "names.remove('david')"
   ]
  },
  {
   "cell_type": "code",
   "execution_count": 41,
   "metadata": {},
   "outputs": [
    {
     "data": {
      "text/plain": [
       "['john', 'bear']"
      ]
     },
     "execution_count": 41,
     "metadata": {},
     "output_type": "execute_result"
    }
   ],
   "source": [
    "names"
   ]
  },
  {
   "cell_type": "code",
   "execution_count": 42,
   "metadata": {},
   "outputs": [
    {
     "ename": "ValueError",
     "evalue": "list.remove(x): x not in list",
     "output_type": "error",
     "traceback": [
      "\u001b[1;31m---------------------------------------------------------------------------\u001b[0m",
      "\u001b[1;31mValueError\u001b[0m                                Traceback (most recent call last)",
      "Cell \u001b[1;32mIn[42], line 1\u001b[0m\n\u001b[1;32m----> 1\u001b[0m \u001b[43mnames\u001b[49m\u001b[38;5;241;43m.\u001b[39;49m\u001b[43mremove\u001b[49m\u001b[43m(\u001b[49m\u001b[38;5;124;43m\"\u001b[39;49m\u001b[38;5;124;43mHarry\u001b[39;49m\u001b[38;5;124;43m\"\u001b[39;49m\u001b[43m)\u001b[49m\n",
      "\u001b[1;31mValueError\u001b[0m: list.remove(x): x not in list"
     ]
    }
   ],
   "source": [
    "names.remove(\"Harry\")"
   ]
  },
  {
   "cell_type": "code",
   "execution_count": 46,
   "metadata": {},
   "outputs": [
    {
     "data": {
      "text/plain": [
       "[100, 100, 150, 200]"
      ]
     },
     "execution_count": 46,
     "metadata": {},
     "output_type": "execute_result"
    }
   ],
   "source": [
    "budget.sort()\n",
    "budget"
   ]
  },
  {
   "cell_type": "code",
   "execution_count": 47,
   "metadata": {},
   "outputs": [
    {
     "name": "stdout",
     "output_type": "stream",
     "text": [
      "\u001b[1;31mSignature:\u001b[0m \u001b[0mbudget\u001b[0m\u001b[1;33m.\u001b[0m\u001b[0msort\u001b[0m\u001b[1;33m(\u001b[0m\u001b[1;33m*\u001b[0m\u001b[1;33m,\u001b[0m \u001b[0mkey\u001b[0m\u001b[1;33m=\u001b[0m\u001b[1;32mNone\u001b[0m\u001b[1;33m,\u001b[0m \u001b[0mreverse\u001b[0m\u001b[1;33m=\u001b[0m\u001b[1;32mFalse\u001b[0m\u001b[1;33m)\u001b[0m\u001b[1;33m\u001b[0m\u001b[1;33m\u001b[0m\u001b[0m\n",
      "\u001b[1;31mDocstring:\u001b[0m\n",
      "Sort the list in ascending order and return None.\n",
      "\n",
      "The sort is in-place (i.e. the list itself is modified) and stable (i.e. the\n",
      "order of two equal elements is maintained).\n",
      "\n",
      "If a key function is given, apply it once to each list item and sort them,\n",
      "ascending or descending, according to their function values.\n",
      "\n",
      "The reverse flag can be set to sort in descending order.\n",
      "\u001b[1;31mType:\u001b[0m      builtin_function_or_method"
     ]
    }
   ],
   "source": [
    "budget.sort?"
   ]
  },
  {
   "cell_type": "code",
   "execution_count": 48,
   "metadata": {},
   "outputs": [
    {
     "name": "stdout",
     "output_type": "stream",
     "text": [
      "\u001b[1;31mSignature:\u001b[0m \u001b[0mbudget\u001b[0m\u001b[1;33m.\u001b[0m\u001b[0minsert\u001b[0m\u001b[1;33m(\u001b[0m\u001b[0mindex\u001b[0m\u001b[1;33m,\u001b[0m \u001b[0mobject\u001b[0m\u001b[1;33m,\u001b[0m \u001b[1;33m/\u001b[0m\u001b[1;33m)\u001b[0m\u001b[1;33m\u001b[0m\u001b[1;33m\u001b[0m\u001b[0m\n",
      "\u001b[1;31mDocstring:\u001b[0m Insert object before index.\n",
      "\u001b[1;31mType:\u001b[0m      builtin_function_or_method"
     ]
    }
   ],
   "source": [
    "budget.insert?"
   ]
  },
  {
   "cell_type": "code",
   "execution_count": 49,
   "metadata": {},
   "outputs": [
    {
     "data": {
      "text/plain": [
       "[100, 100, 150, 50, 200]"
      ]
     },
     "execution_count": 49,
     "metadata": {},
     "output_type": "execute_result"
    }
   ],
   "source": [
    "budget.insert(3, 50)\n",
    "budget"
   ]
  },
  {
   "cell_type": "code",
   "execution_count": 50,
   "metadata": {},
   "outputs": [],
   "source": [
    "budget.append(500)"
   ]
  },
  {
   "cell_type": "code",
   "execution_count": 51,
   "metadata": {},
   "outputs": [
    {
     "data": {
      "text/plain": [
       "[100, 100, 150, 50, 200, 500]"
      ]
     },
     "execution_count": 51,
     "metadata": {},
     "output_type": "execute_result"
    }
   ],
   "source": [
    "budget"
   ]
  },
  {
   "cell_type": "code",
   "execution_count": 52,
   "metadata": {},
   "outputs": [
    {
     "data": {
      "text/plain": [
       "[100, 100, 150, 50, 200, 500, [323, 1234, 6675]]"
      ]
     },
     "execution_count": 52,
     "metadata": {},
     "output_type": "execute_result"
    }
   ],
   "source": [
    "# see how list gets inserted as list object\n",
    "budget2 = [323, 1234, 6675]\n",
    "budget.append(budget2)\n",
    "budget"
   ]
  },
  {
   "cell_type": "code",
   "execution_count": 53,
   "metadata": {},
   "outputs": [
    {
     "name": "stdout",
     "output_type": "stream",
     "text": [
      "\u001b[1;31mSignature:\u001b[0m \u001b[0mbudget\u001b[0m\u001b[1;33m.\u001b[0m\u001b[0mextend\u001b[0m\u001b[1;33m(\u001b[0m\u001b[0miterable\u001b[0m\u001b[1;33m,\u001b[0m \u001b[1;33m/\u001b[0m\u001b[1;33m)\u001b[0m\u001b[1;33m\u001b[0m\u001b[1;33m\u001b[0m\u001b[0m\n",
      "\u001b[1;31mDocstring:\u001b[0m Extend list by appending elements from the iterable.\n",
      "\u001b[1;31mType:\u001b[0m      builtin_function_or_method"
     ]
    }
   ],
   "source": [
    "budget.extend?"
   ]
  },
  {
   "cell_type": "code",
   "execution_count": 55,
   "metadata": {},
   "outputs": [
    {
     "data": {
      "text/plain": [
       "[100, 100, 150, 50, 200, 500]"
      ]
     },
     "execution_count": 55,
     "metadata": {},
     "output_type": "execute_result"
    }
   ],
   "source": [
    "budget.remove(budget2)\n",
    "budget"
   ]
  },
  {
   "cell_type": "code",
   "execution_count": 58,
   "metadata": {},
   "outputs": [
    {
     "data": {
      "text/plain": [
       "[100,\n",
       " 100,\n",
       " 150,\n",
       " 50,\n",
       " 200,\n",
       " 500,\n",
       " 323,\n",
       " 1234,\n",
       " 6675,\n",
       " 323,\n",
       " 1234,\n",
       " 6675,\n",
       " 323,\n",
       " 1234,\n",
       " 6675]"
      ]
     },
     "execution_count": 58,
     "metadata": {},
     "output_type": "execute_result"
    }
   ],
   "source": [
    "budget.extend(budget2)\n",
    "budget"
   ]
  },
  {
   "cell_type": "code",
   "execution_count": 60,
   "metadata": {},
   "outputs": [
    {
     "data": {
      "text/plain": [
       "['john', 'bear', 'D', 'a', 'v', 'i', 'd', 'D', 'a', 'v', 'i', 'd']"
      ]
     },
     "execution_count": 60,
     "metadata": {},
     "output_type": "execute_result"
    }
   ],
   "source": [
    "name = \"David\"\n",
    "names.extend(name)\n",
    "names"
   ]
  },
  {
   "cell_type": "markdown",
   "metadata": {},
   "source": [
    "### Heterogenous Lists\n",
    "Different data types"
   ]
  },
  {
   "cell_type": "code",
   "execution_count": 62,
   "metadata": {},
   "outputs": [],
   "source": [
    "l = [2, \"david\", 1.3, True]"
   ]
  },
  {
   "cell_type": "code",
   "execution_count": 63,
   "metadata": {},
   "outputs": [
    {
     "data": {
      "text/plain": [
       "list"
      ]
     },
     "execution_count": 63,
     "metadata": {},
     "output_type": "execute_result"
    }
   ],
   "source": [
    "type(l)"
   ]
  },
  {
   "cell_type": "code",
   "execution_count": 64,
   "metadata": {},
   "outputs": [
    {
     "data": {
      "text/plain": [
       "bool"
      ]
     },
     "execution_count": 64,
     "metadata": {},
     "output_type": "execute_result"
    }
   ],
   "source": [
    "type(l[3])"
   ]
  },
  {
   "cell_type": "code",
   "execution_count": 67,
   "metadata": {},
   "outputs": [
    {
     "name": "stdout",
     "output_type": "stream",
     "text": [
      "2 <class 'int'>\n",
      "david <class 'str'>\n",
      "1.3 <class 'float'>\n",
      "True <class 'bool'>\n"
     ]
    }
   ],
   "source": [
    "for i in l:\n",
    "    print(f\"{i} {type(i)}\")"
   ]
  },
  {
   "cell_type": "markdown",
   "metadata": {},
   "source": [
    "### 2-D Lists "
   ]
  },
  {
   "cell_type": "code",
   "execution_count": 69,
   "metadata": {},
   "outputs": [
    {
     "name": "stdout",
     "output_type": "stream",
     "text": [
      "[[1, 2, 3], [4, 5, 6], [7, 8, 9]]\n"
     ]
    }
   ],
   "source": [
    "l1 = [1, 2, 3]\n",
    "l2 = [4, 5, 6]\n",
    "l3 = [7, 8, 9]\n",
    "\n",
    "l = [l1, l2, l3]\n",
    "print(l)"
   ]
  },
  {
   "cell_type": "code",
   "execution_count": 70,
   "metadata": {},
   "outputs": [
    {
     "data": {
      "text/plain": [
       "[4, 5, 6]"
      ]
     },
     "execution_count": 70,
     "metadata": {},
     "output_type": "execute_result"
    }
   ],
   "source": [
    "# indexing\n",
    "l[1]"
   ]
  },
  {
   "cell_type": "code",
   "execution_count": 71,
   "metadata": {},
   "outputs": [
    {
     "data": {
      "text/plain": [
       "5"
      ]
     },
     "execution_count": 71,
     "metadata": {},
     "output_type": "execute_result"
    }
   ],
   "source": [
    "# 2-D indexing\n",
    "l[1][1]"
   ]
  },
  {
   "cell_type": "markdown",
   "metadata": {},
   "source": [
    "### 2-D List Iteration"
   ]
  },
  {
   "cell_type": "code",
   "execution_count": 75,
   "metadata": {},
   "outputs": [
    {
     "name": "stdout",
     "output_type": "stream",
     "text": [
      "[1, 2, 3]\n",
      "[1]\n",
      "[2]\n",
      "[3]\n",
      "[4, 5, 6]\n",
      "[4]\n",
      "[5]\n",
      "[6]\n",
      "[7, 8, 9]\n",
      "[7]\n",
      "[8]\n",
      "[9]\n"
     ]
    }
   ],
   "source": [
    "for row in l:\n",
    "    print(row)\n",
    "    for col in row:\n",
    "        print([col])"
   ]
  },
  {
   "cell_type": "markdown",
   "metadata": {},
   "source": [
    "### List Comprehension"
   ]
  },
  {
   "cell_type": "code",
   "execution_count": 76,
   "metadata": {},
   "outputs": [
    {
     "name": "stdout",
     "output_type": "stream",
     "text": [
      "[0, 1, 2, 3, 4, 5, 6, 7, 8, 9]\n"
     ]
    }
   ],
   "source": [
    "l = []\n",
    "for i in range(10):\n",
    "    l.append(i)\n",
    "\n",
    "print(l)"
   ]
  },
  {
   "cell_type": "code",
   "execution_count": 81,
   "metadata": {},
   "outputs": [
    {
     "name": "stdout",
     "output_type": "stream",
     "text": [
      "[0, 1, 2, 3, 4, 5, 6, 7, 8, 9, 10, 11, 12, 13, 14, 15, 16, 17, 18, 19]\n"
     ]
    }
   ],
   "source": [
    "l = [i for i in range(20)]\n",
    "print(l)"
   ]
  },
  {
   "cell_type": "code",
   "execution_count": 82,
   "metadata": {},
   "outputs": [
    {
     "name": "stdout",
     "output_type": "stream",
     "text": [
      "[0, 1, 4, 9, 16, 25, 36, 49, 64, 81]\n"
     ]
    }
   ],
   "source": [
    "# list comprehension. Creating list 'l' by looping through other iterable\n",
    "# and doing a function\n",
    "l = [i ** 2 for i in range(10)] # squared\n",
    "print(l)"
   ]
  },
  {
   "cell_type": "markdown",
   "metadata": {},
   "source": [
    "### Challenge:\n",
    "* Given a list of population sensus. You need to find the total population\n",
    "* Each element in the list represent total members in a family\n",
    "* l = [4, 6, 5, 8, 9, 3, 2, 3, 4, 4, 3, 2, 3, 4]"
   ]
  },
  {
   "cell_type": "code",
   "execution_count": 89,
   "metadata": {},
   "outputs": [
    {
     "name": "stdout",
     "output_type": "stream",
     "text": [
      "62\n"
     ]
    }
   ],
   "source": [
    "l = [4, 6, 5, 8, 9, 3, 2, 4, 5, 4, 3, 2, 3, 4]\n",
    "population = 0\n",
    "for i in l:\n",
    "    population += i\n",
    "print(population)"
   ]
  },
  {
   "cell_type": "code",
   "execution_count": 91,
   "metadata": {},
   "outputs": [
    {
     "name": "stdout",
     "output_type": "stream",
     "text": [
      "['D', 'a', 't', 'a', ' ', 'S', 'c', 'i', 'e', 'n', 'c', 'e']\n"
     ]
    }
   ],
   "source": [
    "word = \"Scaler Data Science Course\"\n",
    "word_list = list(word)\n",
    "print(word_list[7:19])"
   ]
  },
  {
   "cell_type": "code",
   "execution_count": 93,
   "metadata": {},
   "outputs": [
    {
     "data": {
      "text/plain": [
       "['Jadeja', 'Rahul', 'Rohit', 'Dhoni', 'Virat', 'Dhoni', 'Virat']"
      ]
     },
     "execution_count": 93,
     "metadata": {},
     "output_type": "execute_result"
    }
   ],
   "source": [
    "players = ['Jadeja', 'Rahul','Rohit']\n",
    "players[len(players):] = ['Dhoni', 'Virat']\n",
    "players\n",
    "players+=['Dhoni', 'Virat']\n",
    "players"
   ]
  },
  {
   "cell_type": "markdown",
   "metadata": {},
   "source": [
    "# Tuples\n",
    "* Like lists, **tuples** are ordered/indesed collections of data\n",
    "* **Unchangable/Unmutable** - Frozen data. This is the difference\n",
    "* Iterable - for i in t\n",
    "* Can be **heterogenous**"
   ]
  },
  {
   "cell_type": "code",
   "execution_count": 96,
   "metadata": {},
   "outputs": [
    {
     "name": "stdout",
     "output_type": "stream",
     "text": [
      "<class 'tuple'>\n",
      "('Mercury', 'Venus', 'Earth', 'Mars', 'Jupiter', 'Saturn', 'Uranus', 'Pluto')\n"
     ]
    }
   ],
   "source": [
    "# Use Brackets, not Square Brackets\n",
    "planets = (\"Mercury\", \"Venus\", \"Earth\", \"Mars\", \"Jupiter\", \"Saturn\", \"Uranus\", \"Pluto\")\n",
    "print(type(planets))\n",
    "print(planets)"
   ]
  },
  {
   "cell_type": "code",
   "execution_count": 98,
   "metadata": {},
   "outputs": [
    {
     "name": "stdout",
     "output_type": "stream",
     "text": [
      "('Earth', 'Mars')\n",
      "('Pluto', 'Uranus', 'Saturn', 'Jupiter', 'Mars', 'Earth', 'Venus', 'Mercury')\n"
     ]
    }
   ],
   "source": [
    "# Slicing using Square Brackets\n",
    "print(planets[2:4])\n",
    "print(planets[::-1])"
   ]
  },
  {
   "cell_type": "markdown",
   "metadata": {},
   "source": [
    "### How to creat a tuple\n",
    "* t = ()\n",
    "* t1 = tuple() \n",
    "\n",
    "### Non-empty typle\n",
    "* NO t3 = (2) # This will be seen as an int\n",
    "* t3 = tuple(2)"
   ]
  },
  {
   "cell_type": "code",
   "execution_count": 99,
   "metadata": {},
   "outputs": [
    {
     "data": {
      "text/plain": [
       "('D', 'a', 'v', 'i', 'd')"
      ]
     },
     "execution_count": 99,
     "metadata": {},
     "output_type": "execute_result"
    }
   ],
   "source": [
    "# It will iterate through iterable items when adding\n",
    "t5 = tuple(\"David\")\n",
    "t5"
   ]
  },
  {
   "cell_type": "markdown",
   "metadata": {},
   "source": [
    "### Tuple Mutability"
   ]
  },
  {
   "cell_type": "code",
   "execution_count": 100,
   "metadata": {},
   "outputs": [
    {
     "ename": "TypeError",
     "evalue": "'tuple' object does not support item assignment",
     "output_type": "error",
     "traceback": [
      "\u001b[1;31m---------------------------------------------------------------------------\u001b[0m",
      "\u001b[1;31mTypeError\u001b[0m                                 Traceback (most recent call last)",
      "Cell \u001b[1;32mIn[100], line 2\u001b[0m\n\u001b[0;32m      1\u001b[0m t \u001b[38;5;241m=\u001b[39m (\u001b[38;5;241m2\u001b[39m, \u001b[38;5;241m3\u001b[39m, \u001b[38;5;241m4\u001b[39m)\n\u001b[1;32m----> 2\u001b[0m \u001b[43mt\u001b[49m\u001b[43m[\u001b[49m\u001b[38;5;241;43m0\u001b[39;49m\u001b[43m]\u001b[49m \u001b[38;5;241m=\u001b[39m \u001b[38;5;241m45\u001b[39m \u001b[38;5;66;03m# Nope\u001b[39;00m\n",
      "\u001b[1;31mTypeError\u001b[0m: 'tuple' object does not support item assignment"
     ]
    }
   ],
   "source": [
    "t = (2, 3, 4)\n",
    "t[0] = 45 # Nope"
   ]
  },
  {
   "cell_type": "markdown",
   "metadata": {},
   "source": [
    "### What about Lists in Tuples?\n",
    "**Yes**, individual object within a Tuple still retain their Mutability.\n",
    "The Tuple contains references to objects, and the List Object reference doesnt change as well"
   ]
  },
  {
   "cell_type": "code",
   "execution_count": 104,
   "metadata": {},
   "outputs": [
    {
     "name": "stdout",
     "output_type": "stream",
     "text": [
      "([1, 2, 3], 'David') <class 'tuple'> <class 'list'>\n",
      "([1, 'foobar', 3], 'David')\n",
      "([1, 'foobar', 3, 'hello'], 'David')\n"
     ]
    }
   ],
   "source": [
    "t = ([1, 2, 3], \"David\")\n",
    "print(t, type(t), type(t[0]))\n",
    "# Can change the list values\n",
    "t[0][1]= \"foobar\"\n",
    "print(t)\n",
    "t[0].append(\"hello\")\n",
    "print(t)"
   ]
  },
  {
   "cell_type": "markdown",
   "metadata": {},
   "source": [
    "### Unpacking Tuples and Lists"
   ]
  },
  {
   "cell_type": "code",
   "execution_count": 106,
   "metadata": {},
   "outputs": [
    {
     "name": "stdout",
     "output_type": "stream",
     "text": [
      "1 2 3 4\n",
      "1 2 3 4\n"
     ]
    }
   ],
   "source": [
    "t = (1, 2, 3, 4)\n",
    "# Unpacking\n",
    "a, b, c, d = t\n",
    "print(a, b, c, d)\n",
    "l1 = [1, 2, 3, 4]\n",
    "# Unpacking\n",
    "a, b, c, d = l1\n",
    "print(a, b, c, d)"
   ]
  },
  {
   "cell_type": "markdown",
   "metadata": {},
   "source": [
    "### Tuple Operations\n",
    "* Count - frequency\n",
    "* Index - location\n",
    "* Concatination - add to tuples together\n",
    "* Convert List to Tuple, and Tuple to List"
   ]
  },
  {
   "cell_type": "code",
   "execution_count": 107,
   "metadata": {},
   "outputs": [
    {
     "name": "stdout",
     "output_type": "stream",
     "text": [
      "1\n"
     ]
    }
   ],
   "source": [
    "t = (1, 2, 3, 4)\n",
    "print(t.index(2))"
   ]
  },
  {
   "cell_type": "code",
   "execution_count": 109,
   "metadata": {},
   "outputs": [
    {
     "name": "stdout",
     "output_type": "stream",
     "text": [
      "(1, 2, 3, 4, 5, 6)\n"
     ]
    }
   ],
   "source": [
    "# Concatination to create a new tuple\n",
    "t2 = (5, 6)\n",
    "t3 = t + t2\n",
    "print(t3)"
   ]
  },
  {
   "cell_type": "code",
   "execution_count": 110,
   "metadata": {},
   "outputs": [
    {
     "name": "stdout",
     "output_type": "stream",
     "text": [
      "<class 'list'>\n"
     ]
    }
   ],
   "source": [
    "# Convert tuple to list\n",
    "l1 = list(t)\n",
    "print(type(l1))\n",
    "# Convert list to tuple\n",
    "t = tuple(l1)"
   ]
  },
  {
   "cell_type": "markdown",
   "metadata": {},
   "source": [
    "Get the index\n",
    "Problem Description:\n",
    "\n",
    "Write a function to search for a given element elem in the tuple tup and return its index. Return -1 if elem is not present in tup.\n",
    "\n",
    "Input Format:\n",
    "\n",
    "The first line consists of tuple.\n",
    "The second line consists of an element for which index is required to be returned.\n",
    "Output Format:\n",
    "\n",
    "Return the index value in integer format."
   ]
  },
  {
   "cell_type": "code",
   "execution_count": 129,
   "metadata": {},
   "outputs": [
    {
     "data": {
      "text/plain": [
       "2"
      ]
     },
     "execution_count": 129,
     "metadata": {},
     "output_type": "execute_result"
    }
   ],
   "source": [
    "def get_index(tup, elem):\n",
    "    if tup.count(elem):\n",
    "        return tup.index(elem)\n",
    "    else:\n",
    "        return -1\n",
    "       \n",
    "\n",
    "t = (10, 20, 30, 40, 50)\n",
    "get_index(t, 30)"
   ]
  },
  {
   "cell_type": "markdown",
   "metadata": {},
   "source": [
    "Divide the tuple\n",
    "Problem Description:\n",
    "\n",
    "Write a program to divide a given tuple into two tuples that contain even and odd indexed elements of the original tuple. Print both these tuples in the given output format.\n",
    "\n",
    "Note: The input tuple follows 1-based indexing. This means the element at index 0  is treated as having index as 1. \n",
    "\n",
    "For example, (9,2,3). The 1-based index of 2 is 2.\n",
    "\n",
    "Input Format:\n",
    "\n",
    "The input contains a tuple as an argument to the function.\n",
    "Output Format:\n",
    "\n",
    "Print two tuples one for odd indexed elements and another for even indexed elements in the following format:\n",
    "Odd: (....)\n",
    "Even: (....)"
   ]
  },
  {
   "cell_type": "code",
   "execution_count": 139,
   "metadata": {},
   "outputs": [
    {
     "name": "stdout",
     "output_type": "stream",
     "text": [
      "Odd: (10, 5, 10, 10, 5, 8)\n",
      "Even: (8, 2, 15, 8, 8, 2)\n"
     ]
    }
   ],
   "source": [
    "def odd_even_split_tuple(tup):\n",
    "    odd_list = []\n",
    "    even_list = []\n",
    "    count = 1\n",
    "    for i in tup:\n",
    "        if ((count % 2) == 0):\n",
    "            even_list.append(i)\n",
    "        else:\n",
    "            odd_list.append(i)\n",
    "        count += 1\n",
    "    # print lists\n",
    "    odd_tuple = tuple(odd_list)\n",
    "    even_tuple = tuple(even_list)\n",
    "    print(f\"Odd: {odd_tuple}\")\n",
    "    print(f\"Even: {even_tuple}\")\n",
    "\n",
    "\n",
    "t = (10, 8, 5, 2, 10, 15, 10, 8, 5, 8, 8, 2)\n",
    "odd_even_split_tuple(t)"
   ]
  },
  {
   "cell_type": "markdown",
   "metadata": {},
   "source": [
    "Adding to a tuple\n",
    "Predict the output of the following code as we are trying to append to an immutable tuple:\n",
    "\n",
    "name_lst = [\"Vijay\", \"Vickey\"]\n",
    "tup = (\"Item_1\", 0.5, name_lst)\n",
    "name_lst.append(\"Vishal\")\n",
    "print(tup)"
   ]
  },
  {
   "cell_type": "code",
   "execution_count": 140,
   "metadata": {},
   "outputs": [
    {
     "name": "stdout",
     "output_type": "stream",
     "text": [
      "('Item_1', 0.5, ['Vijay', 'Vickey', 'Vishal'])\n"
     ]
    }
   ],
   "source": [
    "name_lst = [\"Vijay\", \"Vickey\"]\n",
    "tup = (\"Item_1\", 0.5, name_lst)\n",
    "name_lst.append(\"Vishal\")\n",
    "print(tup)"
   ]
  },
  {
   "cell_type": "code",
   "execution_count": 144,
   "metadata": {},
   "outputs": [
    {
     "name": "stdout",
     "output_type": "stream",
     "text": [
      "('D', 'a', 'v', 'i', 'd') <class 'tuple'>\n",
      "David <class 'str'>\n"
     ]
    }
   ],
   "source": [
    "t = tuple(\"David\")\n",
    "print(t, type(t))\n",
    "t = (\"David\")\n",
    "print(t, type(t))"
   ]
  },
  {
   "cell_type": "markdown",
   "metadata": {},
   "source": [
    "# Dictionary\n",
    "* Dictionaries have key value pair form of data\n",
    "* Dictionaries are **Ordered**\n",
    "* Do **NOT** support indexing - cant do dict[0]\n",
    "* Data can be accessed using **key**\n",
    "\n",
    "Can Zip two lists together"
   ]
  },
  {
   "cell_type": "markdown",
   "metadata": {},
   "source": [
    "### Creating a dictionary"
   ]
  },
  {
   "cell_type": "code",
   "execution_count": 2,
   "metadata": {},
   "outputs": [
    {
     "name": "stdout",
     "output_type": "stream",
     "text": [
      "<class 'dict'>\n",
      "{}\n",
      "{}\n"
     ]
    }
   ],
   "source": [
    "d = {}\n",
    "print(type(d))\n",
    "print(d)\n",
    "d = dict()\n",
    "print(d)"
   ]
  },
  {
   "cell_type": "code",
   "execution_count": 4,
   "metadata": {},
   "outputs": [
    {
     "name": "stdout",
     "output_type": "stream",
     "text": [
      "{'Apple': 120, 'mango': 100, 'pineapple': 90, 'Banana': 90}\n"
     ]
    }
   ],
   "source": [
    "# Creating non-empty dictionary\n",
    "fruits = {\n",
    "    \"Apple\": 120,\n",
    "    \"mango\": 100,\n",
    "    \"pineapple\": 90,\n",
    "    \"Banana\": 90\n",
    "}\n",
    "print(fruits)"
   ]
  },
  {
   "cell_type": "code",
   "execution_count": 5,
   "metadata": {},
   "outputs": [
    {
     "name": "stdout",
     "output_type": "stream",
     "text": [
      "{'Apple': 120, 'Mango': 100, 'Oranges': 130}\n"
     ]
    }
   ],
   "source": [
    "# Zipping lists together\n",
    "name = [\"Apple\", \"Mango\", \"Oranges\"]\n",
    "prices = [120, 100, 130]\n",
    "fruit = dict(zip(name, prices))\n",
    "print(fruit)\n"
   ]
  },
  {
   "cell_type": "markdown",
   "metadata": {},
   "source": [
    "### Accessing Dict"
   ]
  },
  {
   "cell_type": "code",
   "execution_count": 6,
   "metadata": {},
   "outputs": [
    {
     "data": {
      "text/plain": [
       "120"
      ]
     },
     "execution_count": 6,
     "metadata": {},
     "output_type": "execute_result"
    }
   ],
   "source": [
    "fruits[\"Apple\"]"
   ]
  },
  {
   "cell_type": "markdown",
   "metadata": {},
   "source": [
    "### Get Method: To avoid error"
   ]
  },
  {
   "cell_type": "code",
   "execution_count": 7,
   "metadata": {},
   "outputs": [
    {
     "data": {
      "text/plain": [
       "120"
      ]
     },
     "execution_count": 7,
     "metadata": {},
     "output_type": "execute_result"
    }
   ],
   "source": [
    "fruits.get(\"Apple\")"
   ]
  },
  {
   "cell_type": "code",
   "execution_count": 11,
   "metadata": {},
   "outputs": [
    {
     "name": "stdout",
     "output_type": "stream",
     "text": [
      "None\n",
      "Not Available\n"
     ]
    }
   ],
   "source": [
    "# Wont work fruits[\"Guava\"]\n",
    "print(fruits.get(\"Guava\"))\n",
    "print(fruits.get(\"Guava\", \"Not Available\"))"
   ]
  },
  {
   "cell_type": "markdown",
   "metadata": {},
   "source": [
    "### Updating a Dict\n",
    "* Using Key\n",
    "* Update"
   ]
  },
  {
   "cell_type": "code",
   "execution_count": 12,
   "metadata": {},
   "outputs": [
    {
     "data": {
      "text/plain": [
       "90"
      ]
     },
     "execution_count": 12,
     "metadata": {},
     "output_type": "execute_result"
    }
   ],
   "source": [
    "fruits[\"pineapple\"]"
   ]
  },
  {
   "cell_type": "code",
   "execution_count": 17,
   "metadata": {},
   "outputs": [
    {
     "name": "stdout",
     "output_type": "stream",
     "text": [
      "{'Apple': 120, 'mango': 100, 'pineapple': {'small': 90, 'large': 120}, 'Banana': 90}\n",
      "large pineapples 120\n"
     ]
    }
   ],
   "source": [
    "fruits[\"pineapple\"] = {\"small\":90, \"large\": 120}\n",
    "print(fruits)\n",
    "print(f'large pineapples {fruits.get(\"pineapple\").get(\"large\")}')\n"
   ]
  },
  {
   "cell_type": "code",
   "execution_count": 18,
   "metadata": {},
   "outputs": [
    {
     "name": "stdout",
     "output_type": "stream",
     "text": [
      "{'Apple': 120, 'mango': 100, 'pineapple': {'small': 90, 'large': 120}, 'Banana': 90, 'Grapes': 120, 'oranges': 70, 'berry': 140}\n"
     ]
    }
   ],
   "source": [
    "new = {\"Grapes\": 120, \"oranges\": 70, \"berry\": 140}\n",
    "fruits.update(new)\n",
    "print(fruits)"
   ]
  },
  {
   "cell_type": "markdown",
   "metadata": {},
   "source": [
    "### Deleting Data from Dictionary\n",
    "* Pop -  remove specified key and return the corresponding value.\n",
    "* Popitem - Remove and return a (key, value) pair as a 2-tuple.\n",
    "* Del - deletes entire dictionary"
   ]
  },
  {
   "cell_type": "code",
   "execution_count": 19,
   "metadata": {},
   "outputs": [
    {
     "data": {
      "text/plain": [
       "{'Apple': 120,\n",
       " 'mango': 100,\n",
       " 'pineapple': {'small': 90, 'large': 120},\n",
       " 'Banana': 90,\n",
       " 'Grapes': 120,\n",
       " 'oranges': 70,\n",
       " 'berry': 140}"
      ]
     },
     "execution_count": 19,
     "metadata": {},
     "output_type": "execute_result"
    }
   ],
   "source": [
    "fruits"
   ]
  },
  {
   "cell_type": "code",
   "execution_count": 20,
   "metadata": {},
   "outputs": [
    {
     "data": {
      "text/plain": [
       "True"
      ]
     },
     "execution_count": 20,
     "metadata": {},
     "output_type": "execute_result"
    }
   ],
   "source": [
    "# Citizenship check\n",
    "\"Apple\" in fruits"
   ]
  },
  {
   "cell_type": "code",
   "execution_count": 21,
   "metadata": {},
   "outputs": [
    {
     "data": {
      "text/plain": [
       "120"
      ]
     },
     "execution_count": 21,
     "metadata": {},
     "output_type": "execute_result"
    }
   ],
   "source": [
    "# dict.pop(key)\n",
    "fruits.pop(\"Apple\")"
   ]
  },
  {
   "cell_type": "code",
   "execution_count": 22,
   "metadata": {},
   "outputs": [
    {
     "data": {
      "text/plain": [
       "{'mango': 100,\n",
       " 'pineapple': {'small': 90, 'large': 120},\n",
       " 'Banana': 90,\n",
       " 'Grapes': 120,\n",
       " 'oranges': 70,\n",
       " 'berry': 140}"
      ]
     },
     "execution_count": 22,
     "metadata": {},
     "output_type": "execute_result"
    }
   ],
   "source": [
    "fruits"
   ]
  },
  {
   "cell_type": "code",
   "execution_count": 29,
   "metadata": {},
   "outputs": [
    {
     "data": {
      "text/plain": [
       "('berry', 140)"
      ]
     },
     "execution_count": 29,
     "metadata": {},
     "output_type": "execute_result"
    }
   ],
   "source": [
    "fruits.popitem()"
   ]
  },
  {
   "cell_type": "code",
   "execution_count": 30,
   "metadata": {},
   "outputs": [
    {
     "data": {
      "text/plain": [
       "('oranges', 70)"
      ]
     },
     "execution_count": 30,
     "metadata": {},
     "output_type": "execute_result"
    }
   ],
   "source": [
    "fruits.popitem()"
   ]
  },
  {
   "cell_type": "code",
   "execution_count": 34,
   "metadata": {},
   "outputs": [
    {
     "data": {
      "text/plain": [
       "{'mango': 100,\n",
       " 'pineapple': {'small': 90, 'large': 120},\n",
       " 'Banana': 90,\n",
       " 'Grapes': 120}"
      ]
     },
     "execution_count": 34,
     "metadata": {},
     "output_type": "execute_result"
    }
   ],
   "source": [
    "fruits"
   ]
  },
  {
   "cell_type": "code",
   "execution_count": 36,
   "metadata": {},
   "outputs": [],
   "source": [
    "del fruits\n"
   ]
  },
  {
   "cell_type": "code",
   "execution_count": 37,
   "metadata": {},
   "outputs": [
    {
     "ename": "NameError",
     "evalue": "name 'fruits' is not defined",
     "output_type": "error",
     "traceback": [
      "\u001b[1;31m---------------------------------------------------------------------------\u001b[0m",
      "\u001b[1;31mNameError\u001b[0m                                 Traceback (most recent call last)",
      "Cell \u001b[1;32mIn[37], line 1\u001b[0m\n\u001b[1;32m----> 1\u001b[0m \u001b[43mfruits\u001b[49m\n",
      "\u001b[1;31mNameError\u001b[0m: name 'fruits' is not defined"
     ]
    }
   ],
   "source": [
    "fruits"
   ]
  },
  {
   "cell_type": "markdown",
   "metadata": {},
   "source": [
    "### Iteration in Dictionary\n",
    "HOW, when Dict isnt iterable ?!\n",
    "* D.items() -> a set-like object providing a view on D's items"
   ]
  },
  {
   "cell_type": "code",
   "execution_count": 39,
   "metadata": {},
   "outputs": [
    {
     "data": {
      "text/plain": [
       "{'mango': 100,\n",
       " 'pineapple': {'small': 90, 'large': 120},\n",
       " 'Banana': 90,\n",
       " 'Grapes': 120}"
      ]
     },
     "execution_count": 39,
     "metadata": {},
     "output_type": "execute_result"
    }
   ],
   "source": [
    "fruits = {'mango': 100,\n",
    " 'pineapple': {'small': 90, 'large': 120},\n",
    " 'Banana': 90,\n",
    " 'Grapes': 120}\n",
    "fruits"
   ]
  },
  {
   "cell_type": "code",
   "execution_count": 40,
   "metadata": {},
   "outputs": [
    {
     "name": "stdout",
     "output_type": "stream",
     "text": [
      "mango\n",
      "pineapple\n",
      "Banana\n",
      "Grapes\n"
     ]
    }
   ],
   "source": [
    "# This prints the \"Keys\"\n",
    "for i in fruits:\n",
    "    print(i)\n",
    "\n"
   ]
  },
  {
   "cell_type": "code",
   "execution_count": 42,
   "metadata": {},
   "outputs": [
    {
     "name": "stdout",
     "output_type": "stream",
     "text": [
      "mango 100\n",
      "pineapple {'small': 90, 'large': 120}\n",
      "Banana 90\n",
      "Grapes 120\n"
     ]
    }
   ],
   "source": [
    "# Prints key and values\n",
    "for i in fruits:\n",
    "    print(i, fruits[i])\n"
   ]
  },
  {
   "cell_type": "code",
   "execution_count": 44,
   "metadata": {},
   "outputs": [
    {
     "name": "stdout",
     "output_type": "stream",
     "text": [
      "\u001b[1;31mDocstring:\u001b[0m D.items() -> a set-like object providing a view on D's items\n",
      "\u001b[1;31mType:\u001b[0m      builtin_function_or_method"
     ]
    }
   ],
   "source": [
    "fruits.items?"
   ]
  },
  {
   "cell_type": "code",
   "execution_count": 43,
   "metadata": {},
   "outputs": [
    {
     "name": "stdout",
     "output_type": "stream",
     "text": [
      "mango 100\n",
      "pineapple {'small': 90, 'large': 120}\n",
      "Banana 90\n",
      "Grapes 120\n"
     ]
    }
   ],
   "source": [
    "# using dict.items()\n",
    "for key, value in fruits.items():\n",
    "    print(key, value)"
   ]
  },
  {
   "cell_type": "markdown",
   "metadata": {},
   "source": [
    "### More Dict Methods\n",
    "* keys - returns keys\n",
    "* values - returns values\n",
    "* items - returns all key, value pairs"
   ]
  },
  {
   "cell_type": "code",
   "execution_count": 46,
   "metadata": {},
   "outputs": [
    {
     "name": "stdout",
     "output_type": "stream",
     "text": [
      "dict_keys(['mango', 'pineapple', 'Banana', 'Grapes'])\n",
      "dict_values([100, {'small': 90, 'large': 120}, 90, 120])\n",
      "dict_items([('mango', 100), ('pineapple', {'small': 90, 'large': 120}), ('Banana', 90), ('Grapes', 120)])\n"
     ]
    }
   ],
   "source": [
    "print(fruits.keys())\n",
    "print(fruits.values())\n",
    "print(fruits.items())"
   ]
  },
  {
   "cell_type": "markdown",
   "metadata": {},
   "source": [
    "### Challenge\n",
    "Take an input and find the freq of each letter and return the letter and their freq"
   ]
  },
  {
   "cell_type": "code",
   "execution_count": 53,
   "metadata": {},
   "outputs": [
    {
     "name": "stdout",
     "output_type": "stream",
     "text": [
      "dict_items([('d', 2), ('a', 1), ('v', 1), ('i', 2), (' ', 1), ('m', 1), ('c', 1), ('k', 1), ('e', 1), ('l', 1), ('s', 1), ('o', 1), ('n', 1)])\n"
     ]
    }
   ],
   "source": [
    "input = \"David Mickelson\"\n",
    "##\n",
    "input = input.lower()\n",
    "freq = {}\n",
    "for i in input:\n",
    "    if freq.get(i):\n",
    "        freq[i] += 1\n",
    "    else:\n",
    "        freq[i] = int(1) \n",
    "\n",
    "print(freq.items())"
   ]
  },
  {
   "cell_type": "markdown",
   "metadata": {},
   "source": [
    "### Sum of Values\n",
    "Problem Description:\n",
    "\n",
    "Given a dictionary, find the sum of values of every key in the dictionary.\n",
    "\n",
    "Input Format:\n",
    "\n",
    "The input contains two lines.\n",
    "The first line has space-separated string values which are the keys of the dictionary.\n",
    "The second line has space-separated integer numbers which are the values of the dictionary.\n",
    "Output Format:\n",
    "\n",
    "Print the sum of the values of the items as an integer.\n",
    "Sample Input:\n",
    "\n",
    "x y z\n",
    "25 25 50\n",
    "Sample Output:\n",
    "\n",
    "100"
   ]
  },
  {
   "cell_type": "code",
   "execution_count": 63,
   "metadata": {},
   "outputs": [
    {
     "name": "stdout",
     "output_type": "stream",
     "text": [
      "{'1': 4, '2': 5, '3': 6}\n",
      "15\n"
     ]
    },
    {
     "data": {
      "text/plain": [
       "15"
      ]
     },
     "execution_count": 63,
     "metadata": {},
     "output_type": "execute_result"
    }
   ],
   "source": [
    "def returnSum(dict):\n",
    "    sum = 0\n",
    "    for i in dict.values():\n",
    "        sum += i\n",
    "    print(sum)\n",
    "    return sum\n",
    "\n",
    "\n",
    "testdict = {\"1\": 4, \"2\": 5, \"3\": 6}\n",
    "print(testdict)\n",
    "returnSum(testdict)"
   ]
  },
  {
   "cell_type": "markdown",
   "metadata": {},
   "source": [
    "### Adding Common Keys\n",
    "Problem Description:\n",
    "\n",
    "Given two dictionaries, write a program for creating a dictionary in such a way that it consists of all the keys that are common in both dictionaries. The values corresponding to the keys in this new dictionary are the sum of the values of those keys in the two dictionaries.\n",
    "\n",
    "Input Format:\n",
    "\n",
    "The input contains four lines.\n",
    "The first line is space-separated string values which are the keys of the first dictionary.\n",
    "The second line is space-separated integer numbers which are values of the first dictionary.\n",
    "The third line is space-separated string values which are the keys of the second dictionary.\n",
    "The second line is space-separated integer numbers which are values of the second dictionary.\n",
    "Output Format:\n",
    "\n",
    "Print the resultant dictionary containing added values for common keys.\n",
    "Sample Input:\n",
    "\n",
    "a b c\n",
    "1 2 3\n",
    "c d e\n",
    "4 5 6\n",
    "Sample Output:\n",
    "\n",
    "{'c': 7}"
   ]
  },
  {
   "cell_type": "code",
   "execution_count": 66,
   "metadata": {},
   "outputs": [
    {
     "name": "stdout",
     "output_type": "stream",
     "text": [
      "{'c': 7}\n"
     ]
    },
    {
     "data": {
      "text/plain": [
       "{'c': 7}"
      ]
     },
     "execution_count": 66,
     "metadata": {},
     "output_type": "execute_result"
    }
   ],
   "source": [
    "def commonKey(dict1, dict2):\n",
    "  dict3 = {}\n",
    "  for i in dict1:\n",
    "    if dict2.get(i):\n",
    "        dict3[i] = dict1.get(i) + dict2.get(i)\n",
    "  print (dict3)\n",
    "  return dict3\n",
    "\n",
    "  # YOUR CODE GOES HERE\n",
    "\n",
    "dict1 = {\"a\": 1, \"b\": 2, \"c\": 3}\n",
    "dict2 = {\"c\": 4, \"d\": 5, \"e\": 6}\n",
    "commonKey(dict1, dict2)"
   ]
  },
  {
   "cell_type": "code",
   "execution_count": 67,
   "metadata": {},
   "outputs": [
    {
     "name": "stdout",
     "output_type": "stream",
     "text": [
      "This is not a member of the dictionary\n"
     ]
    }
   ],
   "source": [
    "dict1 = {'age': 35, 'name': 'abc', 'salary': 45000}\n",
    "\n",
    "val = dict1['age']\n",
    "\n",
    "if val in dict1:\n",
    "    print('This is a member of the dictionary')\n",
    "else:\n",
    "    print('This is not a member of the dictionary')"
   ]
  },
  {
   "cell_type": "code",
   "execution_count": 68,
   "metadata": {},
   "outputs": [
    {
     "data": {
      "text/plain": [
       "{'student1': {'name': 'yash', 'salary': 7500},\n",
       " 'student2': {'name': 'heet', 'salary': 8000},\n",
       " 'student3': {'name': 'smit', 'salary': 8500}}"
      ]
     },
     "execution_count": 68,
     "metadata": {},
     "output_type": "execute_result"
    }
   ],
   "source": [
    "freshers = {\n",
    "    'student1': {'name': 'yash', 'salary': 7500},\n",
    "    'student2': {'name': 'heet', 'salary': 8000},\n",
    "    'student3': {'name': 'smit', 'salary': 6500}\n",
    "}\n",
    "freshers['student3']['salary'] = 8500\n",
    "freshers"
   ]
  },
  {
   "cell_type": "code",
   "execution_count": 69,
   "metadata": {},
   "outputs": [
    {
     "name": "stdout",
     "output_type": "stream",
     "text": [
      "{'Sheldon': 1, 'Leonard': 2, 'Penny': 2}\n"
     ]
    }
   ],
   "source": [
    "bbt = {'Sheldon': 1, 'Leonard': 2}\n",
    "bbt.update({'Penny': 2})\n",
    "print(bbt)"
   ]
  },
  {
   "cell_type": "markdown",
   "metadata": {},
   "source": [
    "# Sets\n",
    "* **Unique collection** of data (keys)\n",
    "* Unordered collection of keys\n",
    "* Unindexed - doesnt support set[1], no keys. It is iterable\n",
    "* Mutable\n",
    "* Heterogeneous"
   ]
  },
  {
   "cell_type": "markdown",
   "metadata": {},
   "source": [
    "### Creating a Set\n",
    "* set() \n",
    "* set(iterable) - provide keys only, no values"
   ]
  },
  {
   "cell_type": "code",
   "execution_count": 71,
   "metadata": {},
   "outputs": [
    {
     "data": {
      "text/plain": [
       "dict"
      ]
     },
     "execution_count": 71,
     "metadata": {},
     "output_type": "execute_result"
    }
   ],
   "source": [
    "# This will create a DICT\n",
    "s = {}\n",
    "type(s)"
   ]
  },
  {
   "cell_type": "code",
   "execution_count": 72,
   "metadata": {},
   "outputs": [
    {
     "name": "stdout",
     "output_type": "stream",
     "text": [
      "set()\n",
      "<class 'set'>\n"
     ]
    }
   ],
   "source": [
    "s = set()\n",
    "print(s)\n",
    "print(type(s))"
   ]
  },
  {
   "cell_type": "code",
   "execution_count": 82,
   "metadata": {},
   "outputs": [
    {
     "name": "stdout",
     "output_type": "stream",
     "text": [
      "{1, 2, 3, 5, 6}\n",
      "1\n",
      "2\n",
      "3\n",
      "5\n",
      "6\n"
     ]
    }
   ],
   "source": [
    "# Non empty set. Will discard repeated keys\n",
    "s = {1, 2, 3, 1, 2, 2, 5, 6}\n",
    "print(s)\n",
    "for i in s:\n",
    "    print(i)"
   ]
  },
  {
   "cell_type": "markdown",
   "metadata": {},
   "source": [
    "### Updating a Set\n",
    "* add: for single element\n",
    "* update(iterable)"
   ]
  },
  {
   "cell_type": "code",
   "execution_count": 83,
   "metadata": {},
   "outputs": [
    {
     "data": {
      "text/plain": [
       "{1, 2, 3, 5, 6, 8}"
      ]
     },
     "execution_count": 83,
     "metadata": {},
     "output_type": "execute_result"
    }
   ],
   "source": [
    "s\n",
    "s.add(8)\n",
    "s.add(8) # will only add it once\n",
    "s"
   ]
  },
  {
   "cell_type": "code",
   "execution_count": 84,
   "metadata": {},
   "outputs": [
    {
     "data": {
      "text/plain": [
       "{1, 2, 3, 5, 6, 8, 'D', 'a', 'd', 'i', 'v'}"
      ]
     },
     "execution_count": 84,
     "metadata": {},
     "output_type": "execute_result"
    }
   ],
   "source": [
    "name = \"David\"\n",
    "s.update(name) # case-sensitive\n",
    "s"
   ]
  },
  {
   "cell_type": "markdown",
   "metadata": {},
   "source": [
    "### Deleting an element\n",
    "* pop  - remove and return **Random** element. Not sure what will come off\n",
    "* remove(element) - removes particular element"
   ]
  },
  {
   "cell_type": "code",
   "execution_count": 85,
   "metadata": {},
   "outputs": [
    {
     "name": "stdout",
     "output_type": "stream",
     "text": [
      "1\n",
      "{2, 3, 5, 6, 'd', 8, 'D', 'v', 'a', 'i'}\n"
     ]
    }
   ],
   "source": [
    "print(s.pop())\n",
    "print(s)"
   ]
  },
  {
   "cell_type": "code",
   "execution_count": 86,
   "metadata": {},
   "outputs": [
    {
     "name": "stdout",
     "output_type": "stream",
     "text": [
      "2\n",
      "{3, 5, 6, 'd', 8, 'D', 'v', 'a', 'i'}\n"
     ]
    }
   ],
   "source": [
    "print(s.pop())\n",
    "print(s)"
   ]
  },
  {
   "cell_type": "code",
   "execution_count": 87,
   "metadata": {},
   "outputs": [
    {
     "name": "stdout",
     "output_type": "stream",
     "text": [
      "None\n",
      "{3, 5, 6, 'd', 8, 'v', 'a', 'i'}\n"
     ]
    }
   ],
   "source": [
    "print(s.remove('D'))\n",
    "print(s)"
   ]
  },
  {
   "cell_type": "code",
   "execution_count": 88,
   "metadata": {},
   "outputs": [
    {
     "ename": "KeyError",
     "evalue": "'foobar'",
     "output_type": "error",
     "traceback": [
      "\u001b[1;31m---------------------------------------------------------------------------\u001b[0m",
      "\u001b[1;31mKeyError\u001b[0m                                  Traceback (most recent call last)",
      "Cell \u001b[1;32mIn[88], line 1\u001b[0m\n\u001b[1;32m----> 1\u001b[0m \u001b[43ms\u001b[49m\u001b[38;5;241;43m.\u001b[39;49m\u001b[43mremove\u001b[49m\u001b[43m(\u001b[49m\u001b[38;5;124;43m'\u001b[39;49m\u001b[38;5;124;43mfoobar\u001b[39;49m\u001b[38;5;124;43m'\u001b[39;49m\u001b[43m)\u001b[49m\n",
      "\u001b[1;31mKeyError\u001b[0m: 'foobar'"
     ]
    }
   ],
   "source": [
    "s.remove('foobar')"
   ]
  },
  {
   "cell_type": "markdown",
   "metadata": {},
   "source": [
    "### Intersection\n",
    "* Given two sets, find the common unique keys between them\n",
    "* set1.intersection(set2)"
   ]
  },
  {
   "cell_type": "code",
   "execution_count": 91,
   "metadata": {},
   "outputs": [
    {
     "data": {
      "text/plain": [
       "{'david', 'iron man'}"
      ]
     },
     "execution_count": 91,
     "metadata": {},
     "output_type": "execute_result"
    }
   ],
   "source": [
    "class_python = {'iron man', ' hulk', 'spidy', 'david'}\n",
    "class_java = {'iron man', 'david', 'ant man'}\n",
    "\n",
    "class_python.intersection(class_java)"
   ]
  },
  {
   "cell_type": "markdown",
   "metadata": {},
   "source": [
    "### Union\n",
    "* **Common** values across sets together\n",
    "* set1.union(set2)"
   ]
  },
  {
   "cell_type": "code",
   "execution_count": 93,
   "metadata": {},
   "outputs": [
    {
     "data": {
      "text/plain": [
       "{' hulk', 'ant man', 'david', 'iron man', 'spidy'}"
      ]
     },
     "execution_count": 93,
     "metadata": {},
     "output_type": "execute_result"
    }
   ],
   "source": [
    "class_python.union(class_java)"
   ]
  },
  {
   "cell_type": "markdown",
   "metadata": {},
   "source": [
    "### Difference\n",
    "* **Non-common** keys in set1 vs set 2\n",
    "* What keys in set1 do **NOT** appear in set 2\n",
    "* set1.difference(set2)\n"
   ]
  },
  {
   "cell_type": "code",
   "execution_count": 95,
   "metadata": {},
   "outputs": [
    {
     "data": {
      "text/plain": [
       "{' hulk', 'spidy'}"
      ]
     },
     "execution_count": 95,
     "metadata": {},
     "output_type": "execute_result"
    }
   ],
   "source": [
    "class_python.difference(class_java)"
   ]
  },
  {
   "cell_type": "code",
   "execution_count": 96,
   "metadata": {},
   "outputs": [
    {
     "data": {
      "text/plain": [
       "{'ant man'}"
      ]
     },
     "execution_count": 96,
     "metadata": {},
     "output_type": "execute_result"
    }
   ],
   "source": [
    "class_java.difference(class_python)"
   ]
  },
  {
   "cell_type": "markdown",
   "metadata": {},
   "source": [
    "### Challenge\n",
    "Count number of unique elements (words) in a sentence"
   ]
  },
  {
   "cell_type": "code",
   "execution_count": 107,
   "metadata": {},
   "outputs": [
    {
     "name": "stdout",
     "output_type": "stream",
     "text": [
      "{'be', 'see', 'you', 'wish', 'to', 'in', 'the', 'world', 'change'}\n",
      "9\n"
     ]
    }
   ],
   "source": [
    "sent = \"be the change you wish to see in the world\"\n",
    "# Split string, and insert into a set to remove duplicates\n",
    "set1 = set(sent.split(' '))\n",
    "print(set1)\n",
    "print(len(set1))"
   ]
  },
  {
   "cell_type": "markdown",
   "metadata": {},
   "source": [
    "### Frequency of unique elements\n",
    "Problem Description:\n",
    "\n",
    "Write a function to print out the frequency of all the unique elements present in a given tuple.\n",
    "\n",
    "Input Format:\n",
    "\n",
    "The one input line consists of a tuple.\n",
    "Output Format:\n",
    "\n",
    "Unique elements and their frequencies are expected to be printed as follows:\n",
    "unique_element1 : freq1\n",
    "unique_element2 : freq2\n",
    ".\n",
    ".\n",
    "Sample Input:\n",
    "\n",
    "(10, 8, 5, 2, 10, 15, 10, 8, 5, 8, 8, 2)\n",
    "Sample Output:\n",
    "\n",
    "10 : 3\n",
    "8 : 4\n",
    "5 : 2\n",
    "2 : 2\n",
    "15 : 1"
   ]
  },
  {
   "cell_type": "code",
   "execution_count": 137,
   "metadata": {},
   "outputs": [
    {
     "ename": "TypeError",
     "evalue": "unhashable type: 'list'",
     "output_type": "error",
     "traceback": [
      "\u001b[1;31m---------------------------------------------------------------------------\u001b[0m",
      "\u001b[1;31mTypeError\u001b[0m                                 Traceback (most recent call last)",
      "Cell \u001b[1;32mIn[137], line 19\u001b[0m\n\u001b[0;32m     17\u001b[0m tup \u001b[38;5;241m=\u001b[39m (\u001b[38;5;241m1\u001b[39m, \u001b[38;5;241m2\u001b[39m, \u001b[38;5;241m3\u001b[39m, \u001b[38;5;241m2\u001b[39m, \u001b[38;5;124m\"\u001b[39m\u001b[38;5;124mHello\u001b[39m\u001b[38;5;124m\"\u001b[39m, [\u001b[38;5;241m4\u001b[39m, \u001b[38;5;241m8\u001b[39m, \u001b[38;5;241m16\u001b[39m], \u001b[38;5;124m\"\u001b[39m\u001b[38;5;124mHello\u001b[39m\u001b[38;5;124m\"\u001b[39m)\n\u001b[0;32m     18\u001b[0m tup\u001b[38;5;241m.\u001b[39mcount(\u001b[38;5;241m10\u001b[39m)\n\u001b[1;32m---> 19\u001b[0m \u001b[43munique_count\u001b[49m\u001b[43m(\u001b[49m\u001b[43mtup\u001b[49m\u001b[43m)\u001b[49m\n",
      "Cell \u001b[1;32mIn[137], line 4\u001b[0m, in \u001b[0;36munique_count\u001b[1;34m(tup)\u001b[0m\n\u001b[0;32m      2\u001b[0m freq \u001b[38;5;241m=\u001b[39m {}\n\u001b[0;32m      3\u001b[0m set1 \u001b[38;5;241m=\u001b[39m \u001b[38;5;28mset\u001b[39m()\n\u001b[1;32m----> 4\u001b[0m \u001b[43mset1\u001b[49m\u001b[38;5;241;43m.\u001b[39;49m\u001b[43mupdate\u001b[49m\u001b[43m(\u001b[49m\u001b[43mtup\u001b[49m\u001b[43m)\u001b[49m\n\u001b[0;32m      5\u001b[0m \u001b[38;5;28;01mfor\u001b[39;00m i \u001b[38;5;129;01min\u001b[39;00m tup:\n\u001b[0;32m      6\u001b[0m     \u001b[38;5;28;01mif\u001b[39;00m freq\u001b[38;5;241m.\u001b[39mget(\u001b[38;5;28mstr\u001b[39m(i)):\n",
      "\u001b[1;31mTypeError\u001b[0m: unhashable type: 'list'"
     ]
    }
   ],
   "source": [
    "def unique_count(tup):\n",
    "    freq = {}\n",
    "    for i in tup:\n",
    "        if freq.get(str(i)):\n",
    "            freq[str(i)] += 1\n",
    "        else:\n",
    "            freq[str(i)] = 1\n",
    "    print(freq)    \n",
    "    for i in freq:\n",
    "        print(f\" {i} : {freq[i]}\")\n",
    "    return (freq)\n",
    "\n",
    "\n",
    "# tup = (10, 8, 5, 2, 10, 15, 10, 8, 5, 8, 8, 2)\n",
    "tup = (1, 2, 3, 2, \"Hello\", [4, 8, 16], \"Hello\")\n",
    "tup.count(10)\n",
    "unique_count(tup)"
   ]
  },
  {
   "cell_type": "code",
   "execution_count": null,
   "metadata": {},
   "outputs": [
    {
     "ename": "TypeError",
     "evalue": "unsupported operand type(s) for +: 'set' and 'set'",
     "output_type": "error",
     "traceback": [
      "\u001b[1;31m---------------------------------------------------------------------------\u001b[0m",
      "\u001b[1;31mTypeError\u001b[0m                                 Traceback (most recent call last)",
      "Cell \u001b[1;32mIn[133], line 3\u001b[0m\n\u001b[0;32m      1\u001b[0m set1 \u001b[38;5;241m=\u001b[39m {\u001b[38;5;241m1\u001b[39m, \u001b[38;5;241m2\u001b[39m, \u001b[38;5;241m4\u001b[39m}\n\u001b[0;32m      2\u001b[0m set2 \u001b[38;5;241m=\u001b[39m {\u001b[38;5;241m4\u001b[39m, \u001b[38;5;241m5\u001b[39m, \u001b[38;5;241m6\u001b[39m}\n\u001b[1;32m----> 3\u001b[0m \u001b[38;5;28mprint\u001b[39m(\u001b[38;5;28mlen\u001b[39m(\u001b[43mset1\u001b[49m\u001b[43m \u001b[49m\u001b[38;5;241;43m+\u001b[39;49m\u001b[43m \u001b[49m\u001b[43mset2\u001b[49m))\n",
      "\u001b[1;31mTypeError\u001b[0m: unsupported operand type(s) for +: 'set' and 'set'"
     ]
    }
   ],
   "source": [
    "set1 = {1, 2, 4}\n",
    "set2 = {4, 5, 6}\n",
    "print(len(set1 + set2))"
   ]
  },
  {
   "cell_type": "code",
   "execution_count": null,
   "metadata": {},
   "outputs": [
    {
     "data": {
      "text/plain": [
       "{1, 2, 3, 4, 5}"
      ]
     },
     "execution_count": 135,
     "metadata": {},
     "output_type": "execute_result"
    }
   ],
   "source": [
    "sets = {3, 4, 5}\n",
    "sets.update([1, 2 , 3])\n",
    "sets"
   ]
  },
  {
   "cell_type": "code",
   "execution_count": null,
   "metadata": {},
   "outputs": [
    {
     "ename": "TypeError",
     "evalue": "'set' object does not support item assignment",
     "output_type": "error",
     "traceback": [
      "\u001b[1;31m---------------------------------------------------------------------------\u001b[0m",
      "\u001b[1;31mTypeError\u001b[0m                                 Traceback (most recent call last)",
      "Cell \u001b[1;32mIn[136], line 2\u001b[0m\n\u001b[0;32m      1\u001b[0m a\u001b[38;5;241m=\u001b[39m{\u001b[38;5;124m'\u001b[39m\u001b[38;5;124mAurn\u001b[39m\u001b[38;5;124m'\u001b[39m, \u001b[38;5;124m'\u001b[39m\u001b[38;5;124mNikhil\u001b[39m\u001b[38;5;124m'\u001b[39m, \u001b[38;5;124m'\u001b[39m\u001b[38;5;124mSeeta\u001b[39m\u001b[38;5;124m'\u001b[39m}\n\u001b[1;32m----> 2\u001b[0m \u001b[43ma\u001b[49m\u001b[43m[\u001b[49m\u001b[38;5;241;43m0\u001b[39;49m\u001b[43m]\u001b[49m\u001b[38;5;241m=\u001b[39m \u001b[38;5;124m'\u001b[39m\u001b[38;5;124mArun\u001b[39m\u001b[38;5;124m'\u001b[39m\n\u001b[0;32m      3\u001b[0m \u001b[38;5;28mprint\u001b[39m(a)\n",
      "\u001b[1;31mTypeError\u001b[0m: 'set' object does not support item assignment"
     ]
    }
   ],
   "source": [
    "a = {'Aurn', 'Nikhil', 'Seeta'}\n",
    "a[0] = 'Arun'\n",
    "print(a)"
   ]
  }
 ],
 "metadata": {
  "kernelspec": {
   "display_name": ".venv",
   "language": "python",
   "name": "python3"
  },
  "language_info": {
   "codemirror_mode": {
    "name": "ipython",
    "version": 3
   },
   "file_extension": ".py",
   "mimetype": "text/x-python",
   "name": "python",
   "nbconvert_exporter": "python",
   "pygments_lexer": "ipython3",
   "version": "3.10.11"
  }
 },
 "nbformat": 4,
 "nbformat_minor": 2
}
