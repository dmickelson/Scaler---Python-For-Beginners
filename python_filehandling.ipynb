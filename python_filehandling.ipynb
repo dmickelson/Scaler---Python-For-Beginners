{
 "cells": [
  {
   "cell_type": "markdown",
   "metadata": {},
   "source": [
    "# File Handling\n",
    "* Store data permanently\n",
    "* Types of files\n",
    "    * text - human readable data\n",
    "    * binary - computer readable, jpg, gif etc\n",
    "\n",
    "### Opening a File\n",
    "* **open**: returns a file handle in order to do something with it\n",
    "* Default opens in Read-only mode\n",
    "* **fh.closed** method returns bool if file is still open or closed\n",
    "\n",
    "### Modes of opening a file\n",
    "fh = open(filename, mode)\n",
    "* 'r' - read only\n",
    "* 'w' - write only\n",
    "* 'a' - append data at end of file\n",
    "* 'wt' - write **text**\n",
    "* 'wb' - write **bindary**\n",
    "* 'rt' - read **text**\n",
    "* 'rb' - ready **binary**\n"
   ]
  },
  {
   "cell_type": "code",
   "execution_count": 5,
   "metadata": {},
   "outputs": [
    {
     "name": "stdout",
     "output_type": "stream",
     "text": [
      "False\n",
      ".venv/\n",
      "\n",
      "True\n"
     ]
    }
   ],
   "source": [
    "my_handler = open(\".gitignore\")\n",
    "print(my_handler.closed)\n",
    "print(my_handler.read())\n",
    "my_handler.close()\n",
    "print(my_handler.closed)"
   ]
  },
  {
   "cell_type": "markdown",
   "metadata": {},
   "source": [
    "### With Open\n",
    "* Most common way to perform operations on files\n",
    "* Closes the file after performing operations\n",
    "\n",
    "with open('name.txt') as fh:\n",
    "    do something with the file"
   ]
  },
  {
   "cell_type": "code",
   "execution_count": 6,
   "metadata": {},
   "outputs": [
    {
     "name": "stdout",
     "output_type": "stream",
     "text": [
      ".venv/\n",
      "\n"
     ]
    }
   ],
   "source": [
    "with open('.gitignore') as fh:\n",
    "    print(fh.read())"
   ]
  }
 ],
 "metadata": {
  "kernelspec": {
   "display_name": ".venv",
   "language": "python",
   "name": "python3"
  },
  "language_info": {
   "codemirror_mode": {
    "name": "ipython",
    "version": 3
   },
   "file_extension": ".py",
   "mimetype": "text/x-python",
   "name": "python",
   "nbconvert_exporter": "python",
   "pygments_lexer": "ipython3",
   "version": "3.10.11"
  }
 },
 "nbformat": 4,
 "nbformat_minor": 2
}
