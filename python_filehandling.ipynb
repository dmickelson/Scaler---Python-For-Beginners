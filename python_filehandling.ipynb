{
 "cells": [
  {
   "cell_type": "markdown",
   "metadata": {},
   "source": [
    "# File Handling\n",
    "* Store data permanently\n",
    "* Types of files\n",
    "    * text - human readable data\n",
    "    * binary - computer readable, jpg, gif etc\n",
    "\n",
    "### Opening a File\n",
    "* **open**: returns a file handle in order to do something with it\n",
    "* Default opens in Read-only mode\n",
    "* **fh.closed** method returns bool if file is still open or closed\n",
    "\n",
    "### Modes of opening a file\n",
    "fh = open(filename, mode)\n",
    "* 'r' - read only\n",
    "* 'w' - write only\n",
    "* 'a' - append data at end of file\n",
    "* 'wt' - write **text**\n",
    "* 'wb' - write **bindary**\n",
    "* 'rt' - read **text**\n",
    "* 'rb' - ready **binary**\n"
   ]
  },
  {
   "cell_type": "code",
   "execution_count": 5,
   "metadata": {},
   "outputs": [
    {
     "name": "stdout",
     "output_type": "stream",
     "text": [
      "False\n",
      ".venv/\n",
      "\n",
      "True\n"
     ]
    }
   ],
   "source": [
    "my_handler = open(\".gitignore\")\n",
    "print(my_handler.closed)\n",
    "print(my_handler.read())\n",
    "my_handler.close()\n",
    "print(my_handler.closed)"
   ]
  },
  {
   "cell_type": "markdown",
   "metadata": {},
   "source": [
    "### With Open\n",
    "* Most common way to perform operations on files\n",
    "* Closes the file after performing operations\n",
    "\n",
    "with open('name.txt') as fh:\n",
    "    -- do something with the file\n",
    "\n",
    "### Writing in a File\n",
    "* you can write both text and binary file\n",
    "* write will start at the beginning of the file and overwrite data\n",
    "* append will add to the end of the data"
   ]
  },
  {
   "cell_type": "code",
   "execution_count": 11,
   "metadata": {},
   "outputs": [
    {
     "name": "stdout",
     "output_type": "stream",
     "text": [
      "True\n",
      "True\n",
      "This is all new line \n",
      "This is a second line \n",
      "This is appended line\n",
      "\n",
      "True\n"
     ]
    }
   ],
   "source": [
    "with open('newfile.txt', 'w') as fh:\n",
    "    fh.write('This is all new line \\n')\n",
    "    fh.write('This is a second line \\n')\n",
    "print(fh.closed)\n",
    "\n",
    "with open('newfile.txt', 'a') as fh:\n",
    "    fh.write('This is appended line\\n')\n",
    "print(fh.closed)\n",
    "\n",
    "\n",
    "with open('newfile.txt', 'r') as fh:\n",
    "    print(fh.read())\n",
    "print(fh.closed)"
   ]
  },
  {
   "cell_type": "markdown",
   "metadata": {},
   "source": [
    "### Reading From a File\n",
    "* read() - reads the whole file\n",
    "* read(l) - reads data of length l\n",
    "* tell() - tells you about the position of file handles\n",
    "* seek() - helps to re-position your file handler\n",
    "* readline() - reads data line by line, to the end of the line"
   ]
  },
  {
   "cell_type": "code",
   "execution_count": 19,
   "metadata": {},
   "outputs": [
    {
     "name": "stdout",
     "output_type": "stream",
     "text": [
      "This\n",
      "file handler location 4\n",
      " is al\n",
      "file handler location 10\n",
      "This\n",
      "file handler location 4\n",
      " is all new line \n",
      "\n",
      "True\n"
     ]
    }
   ],
   "source": [
    "with open('newfile.txt', 'r') as fh:\n",
    "    print(fh.read(4))\n",
    "    print(f'file handler location {fh.tell()}')\n",
    "    print(fh.read(6))\n",
    "    print(f'file handler location {fh.tell()}')\n",
    "    # using seek you can move the fh\n",
    "    fh.seek(0)\n",
    "    print(fh.read(4))\n",
    "    print(f'file handler location {fh.tell()}')\n",
    "    print(fh.readline())\n",
    "print(fh.closed)"
   ]
  },
  {
   "cell_type": "markdown",
   "metadata": {},
   "source": [
    "### Binay Data\n",
    "* 'rb' - to read\n",
    "* 'wb' - to write"
   ]
  }
 ],
 "metadata": {
  "kernelspec": {
   "display_name": ".venv",
   "language": "python",
   "name": "python3"
  },
  "language_info": {
   "codemirror_mode": {
    "name": "ipython",
    "version": 3
   },
   "file_extension": ".py",
   "mimetype": "text/x-python",
   "name": "python",
   "nbconvert_exporter": "python",
   "pygments_lexer": "ipython3",
   "version": "3.10.11"
  }
 },
 "nbformat": 4,
 "nbformat_minor": 2
}
