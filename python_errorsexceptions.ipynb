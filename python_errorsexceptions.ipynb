{
 "cells": [
  {
   "cell_type": "markdown",
   "metadata": {},
   "source": [
    "# Errors and Exceptions in Python\n",
    "* With bad code, execution can stop due to errors\n",
    "* There can some places where **exceptions** can be cause\n",
    "* **Errors** are caused by wrong syntax\n",
    "* **Exceptions** are logic based where syntax is corred by logic isnt i.e. div by zero"
   ]
  }
 ],
 "metadata": {
  "language_info": {
   "name": "python"
  }
 },
 "nbformat": 4,
 "nbformat_minor": 2
}
