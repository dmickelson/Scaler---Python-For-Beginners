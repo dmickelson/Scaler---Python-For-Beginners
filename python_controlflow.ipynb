{
 "cells": [
  {
   "cell_type": "markdown",
   "metadata": {},
   "source": [
    "Using conditional IF ELSE Program Control flows"
   ]
  },
  {
   "cell_type": "code",
   "execution_count": 11,
   "metadata": {},
   "outputs": [
    {
     "name": "stdout",
     "output_type": "stream",
     "text": [
      "Take a rest\n"
     ]
    }
   ],
   "source": [
    "age = 70\n",
    "\n",
    "# Now use if else, and test nesting\n",
    "\n",
    "if age >= 18:\n",
    "    if age > 65:\n",
    "        print(\"Take a rest\")\n",
    "    else:\n",
    "        print(\"Congratulations! You can drive!\")\n",
    "        print (\"Drive slow and Careful\")\n",
    "else:\n",
    "    print (\"You are too young, wait till you are over 18\")"
   ]
  },
  {
   "cell_type": "markdown",
   "metadata": {},
   "source": [
    "If, elif and Else"
   ]
  },
  {
   "cell_type": "code",
   "execution_count": 15,
   "metadata": {},
   "outputs": [
    {
     "name": "stdout",
     "output_type": "stream",
     "text": [
      "Negative\n"
     ]
    }
   ],
   "source": [
    "num = -10\n",
    "\n",
    "if num > 0:\n",
    "    print(\"Positive\")\n",
    "elif num == 0:\n",
    "    print(\"Zero\")\n",
    "else:\n",
    "    print(\"Negative\")\n",
    "\n"
   ]
  },
  {
   "cell_type": "markdown",
   "metadata": {},
   "source": [
    "Find maximum in a list\n",
    "- Given marks of students in a class, find top of class\n",
    "- Consider that list is non-empty"
   ]
  },
  {
   "cell_type": "code",
   "execution_count": 17,
   "metadata": {},
   "outputs": [],
   "source": [
    "marks = [90, 30, 100, 50, 80, 95]"
   ]
  },
  {
   "cell_type": "code",
   "execution_count": 19,
   "metadata": {},
   "outputs": [
    {
     "name": "stdout",
     "output_type": "stream",
     "text": [
      "The highest mark is 100\n"
     ]
    }
   ],
   "source": [
    "# iterate on the list\n",
    "\n",
    "highest = marks[0]\n",
    "for i in marks:\n",
    "    # check the condition\n",
    "    if i > highest:\n",
    "        highest = i\n",
    "print(\"The highest mark is\", highest)\n"
   ]
  },
  {
   "cell_type": "code",
   "execution_count": 20,
   "metadata": {},
   "outputs": [
    {
     "data": {
      "text/plain": [
       "100"
      ]
     },
     "execution_count": 20,
     "metadata": {},
     "output_type": "execute_result"
    }
   ],
   "source": [
    "# max functions\n",
    "max(marks)"
   ]
  },
  {
   "cell_type": "code",
   "execution_count": 21,
   "metadata": {},
   "outputs": [
    {
     "data": {
      "text/plain": [
       "30"
      ]
     },
     "execution_count": 21,
     "metadata": {},
     "output_type": "execute_result"
    }
   ],
   "source": [
    "# min function\n",
    "min(marks)"
   ]
  },
  {
   "cell_type": "markdown",
   "metadata": {},
   "source": [
    "Grading System\n",
    "- A: Marks equal 90 and above\n",
    "- B: Marks equal 80 and less than 90\n",
    "- C: Marks equal 70 and less than 80\n",
    "- D: Marks equal 60 and less than 70\n",
    "- E: Less than 60"
   ]
  },
  {
   "cell_type": "code",
   "execution_count": 27,
   "metadata": {},
   "outputs": [
    {
     "name": "stdout",
     "output_type": "stream",
     "text": [
      "C grade\n"
     ]
    }
   ],
   "source": [
    "marks = 74\n",
    "\n",
    "if marks >= 90 and marks <= 100:\n",
    "    print(\" A grade\")\n",
    "elif marks >= 80 and marks < 90:\n",
    "    print (\"B Grade\")\n",
    "elif marks >= 70 and marks < 80:\n",
    "    print (\"C grade\")\n",
    "elif marks >= 60 and marks < 70:\n",
    "    print (\"D Grade\")\n",
    "elif marks >=0 and marks < 60:\n",
    "    print (\"E Grade\")\n",
    "else:\n",
    "    print(\" Invalid Grade!\")"
   ]
  },
  {
   "cell_type": "markdown",
   "metadata": {},
   "source": [
    "Challenge"
   ]
  },
  {
   "cell_type": "code",
   "execution_count": 37,
   "metadata": {},
   "outputs": [
    {
     "name": "stdout",
     "output_type": "stream",
     "text": [
      "1\n"
     ]
    }
   ],
   "source": [
    "class Solution:\n",
    "    def solve(self, A: int) -> int:\n",
    "        if (A % 400) == 0:\n",
    "            return 1\n",
    "        elif ( (A % 4) == 0 and  ((A % 100)!= 0)):\n",
    "            return 1\n",
    "        else:\n",
    "            return 0\n",
    "        \n",
    "leaptest = Solution()\n",
    "print(leaptest.solve(2020))"
   ]
  },
  {
   "cell_type": "markdown",
   "metadata": {},
   "source": [
    "Given a positive integer A, return an array of strings with all the integers from 1 to N. But for multiples of 3 the array should have “Fizz” instead of the number. For the multiples of 5, the array should have “Buzz” instead of the number. For numbers which are multiple of 3 and 5 both, the array should have \"FizzBuzz\" instead of the number."
   ]
  },
  {
   "cell_type": "code",
   "execution_count": 47,
   "metadata": {},
   "outputs": [
    {
     "name": "stdout",
     "output_type": "stream",
     "text": [
      "['1', '2', 'Fizz', '4', 'Buzz', 'Fizz', '7', '8', 'Fizz']\n"
     ]
    }
   ],
   "source": [
    "class Solution:\n",
    "    # @param A : integer\n",
    "    # @return a list of strings\n",
    "    def fizzBuzz(self, A):\n",
    "        result = []\n",
    "        for i in range(1, A+1):\n",
    "            if i % 3 == 0 and i % 5 == 0:\n",
    "                result.append(\"FizzBuzz\")\n",
    "            elif i % 3 == 0:\n",
    "                result.append(\"Fizz\")\n",
    "            elif i % 5 == 0:\n",
    "                result.append(\"Buzz\")\n",
    "            else:\n",
    "                result.append(str(i))\n",
    "        return result\n",
    "    \n",
    "\n",
    "fizzbuzz = Solution()\n",
    "print(fizzbuzz.fizzBuzz(9))\n"
   ]
  }
 ],
 "metadata": {
  "kernelspec": {
   "display_name": ".venv",
   "language": "python",
   "name": "python3"
  },
  "language_info": {
   "codemirror_mode": {
    "name": "ipython",
    "version": 3
   },
   "file_extension": ".py",
   "mimetype": "text/x-python",
   "name": "python",
   "nbconvert_exporter": "python",
   "pygments_lexer": "ipython3",
   "version": "3.10.11"
  }
 },
 "nbformat": 4,
 "nbformat_minor": 2
}
