{
 "cells": [
  {
   "cell_type": "markdown",
   "metadata": {},
   "source": [
    "# Functions\n",
    "Functions are user defined pieces of code. Will only run when called. Helps with \n",
    "* reusability \n",
    "* readability\n",
    "* reducing errors\n",
    "\n",
    "def func_name(inputs:input_types) -> return_type:"
   ]
  },
  {
   "cell_type": "code",
   "execution_count": 2,
   "metadata": {},
   "outputs": [
    {
     "name": "stdout",
     "output_type": "stream",
     "text": [
      "<function greet at 0x000001F41A74C4C0>\n"
     ]
    },
    {
     "data": {
      "text/plain": [
       "function"
      ]
     },
     "execution_count": 2,
     "metadata": {},
     "output_type": "execute_result"
    }
   ],
   "source": [
    "def greet():\n",
    "    print(\"Hello World\")\n",
    "\n",
    "print(greet)\n",
    "type(greet)"
   ]
  },
  {
   "cell_type": "markdown",
   "metadata": {},
   "source": [
    "### Docstring\n",
    "Adding doc string to function to get help with it\n",
    "* Use triple quotes"
   ]
  },
  {
   "cell_type": "code",
   "execution_count": 3,
   "metadata": {},
   "outputs": [
    {
     "name": "stdout",
     "output_type": "stream",
     "text": [
      "\u001b[1;31mSignature:\u001b[0m \u001b[0mgreet\u001b[0m\u001b[1;33m(\u001b[0m\u001b[1;33m)\u001b[0m\u001b[1;33m\u001b[0m\u001b[1;33m\u001b[0m\u001b[0m\n",
      "\u001b[1;31mDocstring:\u001b[0m This function greats everyone\n",
      "\u001b[1;31mFile:\u001b[0m      c:\\users\\dmickelson\\appdata\\local\\temp\\ipykernel_48864\\3321873913.py\n",
      "\u001b[1;31mType:\u001b[0m      function"
     ]
    }
   ],
   "source": [
    "def greet():\n",
    "    '''\n",
    "    This function greats everyone\n",
    "    '''\n",
    "    print(\"Hello World\")\n",
    "\n",
    "greet?"
   ]
  },
  {
   "cell_type": "markdown",
   "metadata": {},
   "source": [
    "### Parameters\n",
    "* Placeholder inputs\n",
    "* When **defining** them call them as **Parameters**\n",
    "* When passing the **actual values** we call them as **Arguments**"
   ]
  },
  {
   "cell_type": "code",
   "execution_count": 4,
   "metadata": {},
   "outputs": [
    {
     "name": "stdout",
     "output_type": "stream",
     "text": [
      "Hello David\n"
     ]
    }
   ],
   "source": [
    "def greet(name):\n",
    "    '''\n",
    "    This function greats everyone\n",
    "    '''\n",
    "    print(\"Hello\", name)\n",
    "\n",
    "greet('David')"
   ]
  },
  {
   "cell_type": "markdown",
   "metadata": {},
   "source": [
    "### Return\n",
    "* function call ends when **return** statement is executed\n",
    "* If there is no return value then function returns **None**"
   ]
  },
  {
   "cell_type": "code",
   "execution_count": 6,
   "metadata": {},
   "outputs": [
    {
     "name": "stdout",
     "output_type": "stream",
     "text": [
      "5 <class 'int'>\n"
     ]
    }
   ],
   "source": [
    "def add(a, b):\n",
    "    c = a + b\n",
    "    return c\n",
    "\n",
    "ret = add(2,3)\n",
    "print(ret, type(ret))"
   ]
  },
  {
   "cell_type": "markdown",
   "metadata": {},
   "source": [
    "### Returning Multiple Value\n",
    "def func_name():\n",
    "    return out1, out2, out3\n",
    "\n",
    "val1, val2, val3 = func_name()\n",
    "or\n",
    "tuple = func_name() returns a tuple for multiple returns"
   ]
  },
  {
   "cell_type": "code",
   "execution_count": 9,
   "metadata": {},
   "outputs": [
    {
     "name": "stdout",
     "output_type": "stream",
     "text": [
      "David <class 'str'> Smith 123 <class 'int'>\n"
     ]
    }
   ],
   "source": [
    "def multi_ret():\n",
    "    return \"David\", \"Smith\", 123\n",
    "\n",
    "fname, lastname, age = multi_ret()\n",
    "print(fname, type(fname), lastname, age, type(age))"
   ]
  },
  {
   "cell_type": "markdown",
   "metadata": {},
   "source": [
    "### Scopes of Variables\n",
    "* Global and local variables\n",
    "* Globals used everywhere\n",
    "* Locals only used in functions\n",
    "* Can change a local variable to global using **global** keyword"
   ]
  },
  {
   "cell_type": "code",
   "execution_count": 16,
   "metadata": {},
   "outputs": [
    {
     "name": "stdout",
     "output_type": "stream",
     "text": [
      "10 2147864150544\n",
      "-100 2147940843248\n",
      "5000\n",
      "10 2147864150544\n",
      "1000 2147940833264\n"
     ]
    }
   ],
   "source": [
    "# global\n",
    "s1 = 10\n",
    "print(s1, id(s1))\n",
    "def test_func():\n",
    "    # local\n",
    "    s1 = -100 # this is actually a different s1, check the id\n",
    "    x = 5000\n",
    "    global y \n",
    "    y = 1000\n",
    "    print(s1, id(s1))\n",
    "    print(x)\n",
    "\n",
    "test_func()\n",
    "# back to global\n",
    "print(s1, id(s1))\n",
    "# out of scope-> print(x)\n",
    "print(y, id(y))"
   ]
  },
  {
   "cell_type": "code",
   "execution_count": 20,
   "metadata": {},
   "outputs": [
    {
     "name": "stdout",
     "output_type": "stream",
     "text": [
      "100 2147864153424\n",
      "2 2147864150288\n",
      "2 2147864150288\n"
     ]
    }
   ],
   "source": [
    "s2=100\n",
    "print(s2, id(s2))\n",
    "def global_overwrite():\n",
    "    # id changes\n",
    "    global s2\n",
    "    s2 = 2\n",
    "    print(s2, id(s2))\n",
    "\n",
    "\n",
    "global_overwrite()\n",
    "# id same as local\n",
    "print(s2, id(s2))"
   ]
  },
  {
   "cell_type": "markdown",
   "metadata": {},
   "source": [
    "## LAMBDA Function\n",
    "* Mainly used when we need nameless functions for short period of time\n",
    "* **lamba** keyword\n",
    "* Cant use statments such as for loop or prints in lambda\n",
    "\n",
    "(lambda params : action)(input argument values)\n"
   ]
  },
  {
   "cell_type": "code",
   "execution_count": 21,
   "metadata": {},
   "outputs": [
    {
     "data": {
      "text/plain": [
       "7"
      ]
     },
     "execution_count": 21,
     "metadata": {},
     "output_type": "execute_result"
    }
   ],
   "source": [
    "def add(a, b):\n",
    "    return a+b\n",
    "\n",
    "add(3, 4)"
   ]
  },
  {
   "cell_type": "code",
   "execution_count": 24,
   "metadata": {},
   "outputs": [
    {
     "data": {
      "text/plain": [
       "7"
      ]
     },
     "execution_count": 24,
     "metadata": {},
     "output_type": "execute_result"
    }
   ],
   "source": [
    "# Using lambda\n",
    "(lambda a, b : a + b)(3, 4)\n"
   ]
  },
  {
   "cell_type": "code",
   "execution_count": 25,
   "metadata": {},
   "outputs": [
    {
     "name": "stdout",
     "output_type": "stream",
     "text": [
      "<class 'function'>\n",
      "12\n"
     ]
    }
   ],
   "source": [
    "func = lambda a, b : a * b\n",
    "print(type(func))\n",
    "print(func(3,4))"
   ]
  },
  {
   "cell_type": "code",
   "execution_count": 27,
   "metadata": {},
   "outputs": [
    {
     "data": {
      "text/plain": [
       "43"
      ]
     },
     "execution_count": 27,
     "metadata": {},
     "output_type": "execute_result"
    }
   ],
   "source": [
    "def larger(a, b):\n",
    "    if a > b:\n",
    "        return a\n",
    "    else:\n",
    "        return b\n",
    "larger(43, 5)"
   ]
  },
  {
   "cell_type": "code",
   "execution_count": 28,
   "metadata": {},
   "outputs": [
    {
     "data": {
      "text/plain": [
       "43"
      ]
     },
     "execution_count": 28,
     "metadata": {},
     "output_type": "execute_result"
    }
   ],
   "source": [
    "(lambda a, b: a if a > b else b)( 43, 5)"
   ]
  },
  {
   "cell_type": "code",
   "execution_count": 31,
   "metadata": {},
   "outputs": [
    {
     "data": {
      "text/plain": [
       "43"
      ]
     },
     "execution_count": 31,
     "metadata": {},
     "output_type": "execute_result"
    }
   ],
   "source": [
    "def large(a, b): return a if a > b else b\n",
    "large(43, 5)"
   ]
  },
  {
   "cell_type": "code",
   "execution_count": 32,
   "metadata": {},
   "outputs": [
    {
     "data": {
      "text/plain": [
       "[(2, 4), (5, 3), (12, 56)]"
      ]
     },
     "execution_count": 32,
     "metadata": {},
     "output_type": "execute_result"
    }
   ],
   "source": [
    "lst = [(12, 56), (2, 4), (5, 3)]\n",
    "lst.sort() # default first key[0] sort\n",
    "lst"
   ]
  },
  {
   "cell_type": "code",
   "execution_count": 39,
   "metadata": {},
   "outputs": [
    {
     "data": {
      "text/plain": [
       "[(5, 3), (2, 4), (12, 56)]"
      ]
     },
     "execution_count": 39,
     "metadata": {},
     "output_type": "execute_result"
    }
   ],
   "source": [
    "lst.sort(key = lambda x: x[1])\n",
    "lst"
   ]
  },
  {
   "cell_type": "markdown",
   "metadata": {},
   "source": [
    "### Challenge:\n",
    "Write a Python function to print the even numbers from a given list\n",
    "* input = [1 ,2, 4, 3, 5, 6]\n",
    "* output = 2, 4, 6"
   ]
  },
  {
   "cell_type": "code",
   "execution_count": 46,
   "metadata": {},
   "outputs": [
    {
     "name": "stdout",
     "output_type": "stream",
     "text": [
      "2 4 6 "
     ]
    }
   ],
   "source": [
    "foobar = [1 , 2, 4, 3, 5, 6]\n",
    "def print_even(lst: list):\n",
    "    for i in lst:\n",
    "        if i%2 == 0:\n",
    "            print(i, end=' ')\n",
    "\n",
    "print_even(foobar)"
   ]
  },
  {
   "cell_type": "markdown",
   "metadata": {},
   "source": [
    "### Challenge:\n",
    "Write a function that takes a list and returns a new list with unique elements of the first list\n",
    "* input = [1, 2, 3, 1, 2, 4]\n",
    "* output = [1, 2, 3, 4]"
   ]
  },
  {
   "cell_type": "code",
   "execution_count": 52,
   "metadata": {},
   "outputs": [
    {
     "name": "stdout",
     "output_type": "stream",
     "text": [
      "{1, 2, 3, 4}\n",
      "[1, 2, 3, 4]\n"
     ]
    }
   ],
   "source": [
    "foobar = [1, 2, 3, 1, 2, 4]\n",
    "def print_unique(arg1):\n",
    "    s1 = set(arg1)\n",
    "    print(s1)\n",
    "    lst = list(s1)\n",
    "    print(lst)\n",
    "\n",
    "\n",
    "print_unique(foobar)"
   ]
  },
  {
   "cell_type": "markdown",
   "metadata": {},
   "source": [
    "### Arguments vs Parameters\n",
    "* Parameters: Values we pass while **defining** a function\n",
    "    * def func_name(this_is_a_paramter)\n",
    "* Arguments: Actual values passed when **calling** a function\n",
    "    * this_is_an_argument = 0\n",
    "    * while_calling_func=func_name(this_is_an_argument)"
   ]
  },
  {
   "cell_type": "markdown",
   "metadata": {},
   "source": [
    "### Positional Arguments\n",
    "* The argument value you pass matches parameters according to their position\n",
    "    * def func_name(param1, param2)\n",
    "* calling = func_name(arg1, arg1)"
   ]
  },
  {
   "cell_type": "markdown",
   "metadata": {},
   "source": [
    "### Default Arguments\n",
    "* Giving default argument values to parameters\n",
    "* For these parameters, passing an argument is optional\n",
    "* Dafault has to come **After** non-default params"
   ]
  },
  {
   "cell_type": "code",
   "execution_count": 53,
   "metadata": {},
   "outputs": [
    {
     "name": "stdout",
     "output_type": "stream",
     "text": [
      "arg1 hello\n"
     ]
    }
   ],
   "source": [
    "def func_name(param1, param2='hello'):\n",
    "    print(param1, param2)\n",
    "func_name(\"arg1\")\n",
    "\n"
   ]
  },
  {
   "cell_type": "markdown",
   "metadata": {},
   "source": [
    "### Arbitrary Argument\n",
    "* When number of values you want to pass is not know (ie print can take n number of args)\n",
    "* The parameters/args are stored as **Tuples**\n",
    "* start the Param with '*'"
   ]
  },
  {
   "cell_type": "code",
   "execution_count": 56,
   "metadata": {},
   "outputs": [
    {
     "name": "stdout",
     "output_type": "stream",
     "text": [
      "('one', 'two', 3, ['a', 'b']) <class 'tuple'>\n",
      "one two 3 ['a', 'b'] "
     ]
    }
   ],
   "source": [
    "def func_name(*args):\n",
    "    print(args, type(args))\n",
    "    for i in args:\n",
    "        print(i, end=' ')\n",
    "func_name(\"one\", \"two\", 3,['a', 'b'])"
   ]
  },
  {
   "cell_type": "markdown",
   "metadata": {},
   "source": [
    "### Keyword Arguments\n",
    "* Variable number of key word arguments\n",
    "* Stores data in **Dict** \n",
    "* use '**kwargs\n",
    "* **kwargs has to come **last** in a list of parameters"
   ]
  },
  {
   "cell_type": "code",
   "execution_count": 64,
   "metadata": {},
   "outputs": [
    {
     "name": "stdout",
     "output_type": "stream",
     "text": [
      "{'name': 'David', 'age': 20, 'comp': 'foobar', 'hobbies': ['swim', 'bike', 'run']} <class 'dict'>\n",
      "name David\n",
      "age 20\n",
      "comp foobar\n",
      "hobbies ['swim', 'bike', 'run']\n"
     ]
    }
   ],
   "source": [
    "def func_name(**kwargs):\n",
    "    print(kwargs, type(kwargs))\n",
    "    for key, value in kwargs.items():\n",
    "        print(key, value)\n",
    "func_name(name='David', age=20, comp='foobar', hobbies=['swim', 'bike', 'run'])"
   ]
  },
  {
   "cell_type": "code",
   "execution_count": 66,
   "metadata": {},
   "outputs": [
    {
     "name": "stdout",
     "output_type": "stream",
     "text": [
      "1 2\n",
      "25\n",
      "()\n",
      "{}\n"
     ]
    }
   ],
   "source": [
    "def mixed_args(a, b, age=25, *args, **kwargs):\n",
    "    print(a, b)\n",
    "    print(age)\n",
    "    print(args)\n",
    "    print(kwargs)\n",
    "\n",
    "mixed_args(1, 2)"
   ]
  },
  {
   "cell_type": "markdown",
   "metadata": {},
   "source": [
    "### Find the Area of Circle\n",
    "Problem Description:\n",
    "\n",
    "Write a function to calculate and return the area of a circle by using the radius of the circle given as a parameter.\n",
    "\n",
    "Notes:\n",
    "\n",
    " Round up the area to 2 decimal places. You can use the round() function.\n",
    " Use pi as 3.14159.\n",
    " You need not take input in this problem, you need to only implement the function provided."
   ]
  },
  {
   "cell_type": "code",
   "execution_count": 67,
   "metadata": {},
   "outputs": [
    {
     "name": "stdout",
     "output_type": "stream",
     "text": [
      "78.54\n"
     ]
    }
   ],
   "source": [
    "def circle_area(r):\n",
    "    ans = None\n",
    "    '''input: r = A numerical value as radius\n",
    "       output: Return the area of circle as ans upto 2 decimal places'''\n",
    "    ans = round(r * r * 3.14159, 2)\n",
    "    return ans\n",
    "\n",
    "print(circle_area(5))"
   ]
  },
  {
   "cell_type": "markdown",
   "metadata": {},
   "source": [
    "### Time to end Corona\n",
    "Problem Description\n",
    "Given three integers, A, B and C. You have to find the number of days it will take to reach zero cases of Corona in a city.\n",
    "\n",
    "A - Average cases recovered in a day of the corona.\n",
    "B - Number of new cases of corona daily.\n",
    "C - Current active cases of the corona.\n",
    "\n",
    "Return the minimum number of days it will take to reach 0 active cases of Covid.\n",
    "\n",
    "Problem Constraints\n",
    "\n",
    "1 <= B < A <= 5000\n",
    "1 <= C <= 1000\n",
    "\n",
    "\n",
    "Input Format\n",
    "\n",
    "The first argument will be integer A, which denotes the recovered cases in a day.\n",
    "The second argument will be integer B, which denotes the new cases in a day.\n",
    "The third argument will be integer C, which denotes the currently active cases.\n",
    "\n",
    "\n",
    "Output Format\n",
    "\n",
    "Return an integer which denotes the minimum days to reach 0 cases."
   ]
  },
  {
   "cell_type": "code",
   "execution_count": 74,
   "metadata": {},
   "outputs": [
    {
     "name": "stdout",
     "output_type": "stream",
     "text": [
      "1\n",
      "2\n",
      "8\n"
     ]
    }
   ],
   "source": [
    "class Solution:\n",
    "    # @param A : integer\n",
    "    # @param B : integer\n",
    "    # @param C : integer\n",
    "    # @return an integer\n",
    "    def solve(self, A, B, C):\n",
    "        recover_rate = A\n",
    "        new_case_rate = B\n",
    "        existing_cases = C\n",
    "        \n",
    "        days = 0\n",
    "        while existing_cases > 0:\n",
    "            days += 1\n",
    "            existing_cases = existing_cases + new_case_rate - recover_rate\n",
    "            \n",
    "            # print(active_cases, days)\n",
    "        return days\n",
    "sol = Solution()\n",
    "print(sol.solve(5, 3, 1))\n",
    "print(sol.solve(4, 3, 2))\n",
    "print(sol.solve(50, 49, 8))"
   ]
  },
  {
   "cell_type": "code",
   "execution_count": 75,
   "metadata": {},
   "outputs": [
    {
     "name": "stdout",
     "output_type": "stream",
     "text": [
      "68.0\n"
     ]
    }
   ],
   "source": [
    "def convert(t):\n",
    "    return t*9/5 + 32\n",
    "\n",
    "\n",
    "print(convert(20))"
   ]
  },
  {
   "cell_type": "code",
   "execution_count": 80,
   "metadata": {},
   "outputs": [
    {
     "ename": "SyntaxError",
     "evalue": "positional argument follows keyword argument (1984586793.py, line 7)",
     "output_type": "error",
     "traceback": [
      "\u001b[1;36m  Cell \u001b[1;32mIn[80], line 7\u001b[1;36m\u001b[0m\n\u001b[1;33m    fun1(name=\"Mohit\", 23)\u001b[0m\n\u001b[1;37m                         ^\u001b[0m\n\u001b[1;31mSyntaxError\u001b[0m\u001b[1;31m:\u001b[0m positional argument follows keyword argument\n"
     ]
    }
   ],
   "source": [
    "def fun1(name, age):\n",
    "    print(name, age)\n",
    "\n",
    "\n",
    "fun1(\"Mohit\", age=23)\n",
    "fun1(age=23, name=\"Mohit\")\n",
    "fun1(name=\"Mohit\", 23) # Nope"
   ]
  },
  {
   "cell_type": "code",
   "execution_count": 86,
   "metadata": {},
   "outputs": [
    {
     "name": "stdout",
     "output_type": "stream",
     "text": [
      "180.0\n",
      "1200.0\n"
     ]
    },
    {
     "data": {
      "text/plain": [
       "1200.0"
      ]
     },
     "execution_count": 86,
     "metadata": {},
     "output_type": "execute_result"
    }
   ],
   "source": [
    "def Interest(p,c,t=2,r=0.09):\n",
    "    print(p*t*r)\n",
    "    return p*t*r\n",
    "\n",
    "Interest(p=1000, c=5)\n",
    "Interest(c=4, r=0.12,p=5000)"
   ]
  }
 ],
 "metadata": {
  "kernelspec": {
   "display_name": ".venv",
   "language": "python",
   "name": "python3"
  },
  "language_info": {
   "codemirror_mode": {
    "name": "ipython",
    "version": 3
   },
   "file_extension": ".py",
   "mimetype": "text/x-python",
   "name": "python",
   "nbconvert_exporter": "python",
   "pygments_lexer": "ipython3",
   "version": "3.10.11"
  }
 },
 "nbformat": 4,
 "nbformat_minor": 2
}
