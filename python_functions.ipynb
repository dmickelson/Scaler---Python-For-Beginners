{
 "cells": [
  {
   "cell_type": "markdown",
   "metadata": {},
   "source": [
    "# Functions\n",
    "Functions are user defined pieces of code. Will only run when called. Helps with \n",
    "* reusability \n",
    "* readability\n",
    "* reducing errors\n",
    "\n",
    "def func_name(inputs:input_types) -> return_type:"
   ]
  },
  {
   "cell_type": "code",
   "execution_count": 2,
   "metadata": {},
   "outputs": [
    {
     "name": "stdout",
     "output_type": "stream",
     "text": [
      "<function greet at 0x000001F41A74C4C0>\n"
     ]
    },
    {
     "data": {
      "text/plain": [
       "function"
      ]
     },
     "execution_count": 2,
     "metadata": {},
     "output_type": "execute_result"
    }
   ],
   "source": [
    "def greet():\n",
    "    print(\"Hello World\")\n",
    "\n",
    "print(greet)\n",
    "type(greet)"
   ]
  },
  {
   "cell_type": "markdown",
   "metadata": {},
   "source": [
    "### Docstring\n",
    "Adding doc string to function to get help with it\n",
    "* Use triple quotes"
   ]
  },
  {
   "cell_type": "code",
   "execution_count": 3,
   "metadata": {},
   "outputs": [
    {
     "name": "stdout",
     "output_type": "stream",
     "text": [
      "\u001b[1;31mSignature:\u001b[0m \u001b[0mgreet\u001b[0m\u001b[1;33m(\u001b[0m\u001b[1;33m)\u001b[0m\u001b[1;33m\u001b[0m\u001b[1;33m\u001b[0m\u001b[0m\n",
      "\u001b[1;31mDocstring:\u001b[0m This function greats everyone\n",
      "\u001b[1;31mFile:\u001b[0m      c:\\users\\dmickelson\\appdata\\local\\temp\\ipykernel_48864\\3321873913.py\n",
      "\u001b[1;31mType:\u001b[0m      function"
     ]
    }
   ],
   "source": [
    "def greet():\n",
    "    '''\n",
    "    This function greats everyone\n",
    "    '''\n",
    "    print(\"Hello World\")\n",
    "\n",
    "greet?"
   ]
  },
  {
   "cell_type": "markdown",
   "metadata": {},
   "source": [
    "### Parameters\n",
    "* Placeholder inputs\n",
    "* When **defining** them call them as **Parameters**\n",
    "* When passing the **actual values** we call them as **Arguments**"
   ]
  },
  {
   "cell_type": "code",
   "execution_count": 4,
   "metadata": {},
   "outputs": [
    {
     "name": "stdout",
     "output_type": "stream",
     "text": [
      "Hello David\n"
     ]
    }
   ],
   "source": [
    "def greet(name):\n",
    "    '''\n",
    "    This function greats everyone\n",
    "    '''\n",
    "    print(\"Hello\", name)\n",
    "\n",
    "greet('David')"
   ]
  },
  {
   "cell_type": "markdown",
   "metadata": {},
   "source": [
    "### Return\n",
    "* function call ends when **return** statement is executed\n",
    "* If there is no return value then function returns **None**"
   ]
  },
  {
   "cell_type": "code",
   "execution_count": 6,
   "metadata": {},
   "outputs": [
    {
     "name": "stdout",
     "output_type": "stream",
     "text": [
      "5 <class 'int'>\n"
     ]
    }
   ],
   "source": [
    "def add(a, b):\n",
    "    c = a + b\n",
    "    return c\n",
    "\n",
    "ret = add(2,3)\n",
    "print(ret, type(ret))"
   ]
  },
  {
   "cell_type": "markdown",
   "metadata": {},
   "source": [
    "### Returning Multiple Value\n",
    "def func_name():\n",
    "    return out1, out2, out3\n",
    "\n",
    "val1, val2, val3 = func_name()\n",
    "or\n",
    "tuple = func_name() returns a tuple for multiple returns"
   ]
  },
  {
   "cell_type": "code",
   "execution_count": 9,
   "metadata": {},
   "outputs": [
    {
     "name": "stdout",
     "output_type": "stream",
     "text": [
      "David <class 'str'> Smith 123 <class 'int'>\n"
     ]
    }
   ],
   "source": [
    "def multi_ret():\n",
    "    return \"David\", \"Smith\", 123\n",
    "\n",
    "fname, lastname, age = multi_ret()\n",
    "print(fname, type(fname), lastname, age, type(age))"
   ]
  },
  {
   "cell_type": "markdown",
   "metadata": {},
   "source": [
    "### Scopes of Variables\n",
    "* Global and local variables\n",
    "* Globals used everywhere\n",
    "* Locals only used in functions\n",
    "* Can change a local variable to global using **global** keyword"
   ]
  },
  {
   "cell_type": "code",
   "execution_count": 16,
   "metadata": {},
   "outputs": [
    {
     "name": "stdout",
     "output_type": "stream",
     "text": [
      "10 2147864150544\n",
      "-100 2147940843248\n",
      "5000\n",
      "10 2147864150544\n",
      "1000 2147940833264\n"
     ]
    }
   ],
   "source": [
    "# global\n",
    "s1 = 10\n",
    "print(s1, id(s1))\n",
    "def test_func():\n",
    "    # local\n",
    "    s1 = -100 # this is actually a different s1, check the id\n",
    "    x = 5000\n",
    "    global y \n",
    "    y = 1000\n",
    "    print(s1, id(s1))\n",
    "    print(x)\n",
    "\n",
    "test_func()\n",
    "# back to global\n",
    "print(s1, id(s1))\n",
    "# out of scope-> print(x)\n",
    "print(y, id(y))"
   ]
  },
  {
   "cell_type": "code",
   "execution_count": 20,
   "metadata": {},
   "outputs": [
    {
     "name": "stdout",
     "output_type": "stream",
     "text": [
      "100 2147864153424\n",
      "2 2147864150288\n",
      "2 2147864150288\n"
     ]
    }
   ],
   "source": [
    "s2=100\n",
    "print(s2, id(s2))\n",
    "def global_overwrite():\n",
    "    # id changes\n",
    "    global s2\n",
    "    s2 = 2\n",
    "    print(s2, id(s2))\n",
    "\n",
    "\n",
    "global_overwrite()\n",
    "# id same as local\n",
    "print(s2, id(s2))"
   ]
  },
  {
   "cell_type": "markdown",
   "metadata": {},
   "source": [
    "## LAMBDA Function\n",
    "* Mainly used when we need nameless functions for short period of time\n",
    "* **lamba** keyword\n",
    "* Cant use statments such as for loop or prints in lambda\n",
    "\n",
    "(lambda params : action)(input argument values)\n"
   ]
  },
  {
   "cell_type": "code",
   "execution_count": 21,
   "metadata": {},
   "outputs": [
    {
     "data": {
      "text/plain": [
       "7"
      ]
     },
     "execution_count": 21,
     "metadata": {},
     "output_type": "execute_result"
    }
   ],
   "source": [
    "def add(a, b):\n",
    "    return a+b\n",
    "\n",
    "add(3, 4)"
   ]
  },
  {
   "cell_type": "code",
   "execution_count": 24,
   "metadata": {},
   "outputs": [
    {
     "data": {
      "text/plain": [
       "7"
      ]
     },
     "execution_count": 24,
     "metadata": {},
     "output_type": "execute_result"
    }
   ],
   "source": [
    "# Using lambda\n",
    "(lambda a, b : a + b)(3, 4)\n"
   ]
  },
  {
   "cell_type": "code",
   "execution_count": 25,
   "metadata": {},
   "outputs": [
    {
     "name": "stdout",
     "output_type": "stream",
     "text": [
      "<class 'function'>\n",
      "12\n"
     ]
    }
   ],
   "source": [
    "func = lambda a, b : a * b\n",
    "print(type(func))\n",
    "print(func(3,4))"
   ]
  },
  {
   "cell_type": "code",
   "execution_count": 27,
   "metadata": {},
   "outputs": [
    {
     "data": {
      "text/plain": [
       "43"
      ]
     },
     "execution_count": 27,
     "metadata": {},
     "output_type": "execute_result"
    }
   ],
   "source": [
    "def larger(a, b):\n",
    "    if a > b:\n",
    "        return a\n",
    "    else:\n",
    "        return b\n",
    "larger(43, 5)"
   ]
  },
  {
   "cell_type": "code",
   "execution_count": 28,
   "metadata": {},
   "outputs": [
    {
     "data": {
      "text/plain": [
       "43"
      ]
     },
     "execution_count": 28,
     "metadata": {},
     "output_type": "execute_result"
    }
   ],
   "source": [
    "(lambda a, b: a if a > b else b)( 43, 5)"
   ]
  },
  {
   "cell_type": "code",
   "execution_count": 31,
   "metadata": {},
   "outputs": [
    {
     "data": {
      "text/plain": [
       "43"
      ]
     },
     "execution_count": 31,
     "metadata": {},
     "output_type": "execute_result"
    }
   ],
   "source": [
    "def large(a, b): return a if a > b else b\n",
    "large(43, 5)"
   ]
  },
  {
   "cell_type": "code",
   "execution_count": 32,
   "metadata": {},
   "outputs": [
    {
     "data": {
      "text/plain": [
       "[(2, 4), (5, 3), (12, 56)]"
      ]
     },
     "execution_count": 32,
     "metadata": {},
     "output_type": "execute_result"
    }
   ],
   "source": [
    "lst = [(12, 56), (2, 4), (5, 3)]\n",
    "lst.sort() # default first key[0] sort\n",
    "lst"
   ]
  },
  {
   "cell_type": "code",
   "execution_count": 39,
   "metadata": {},
   "outputs": [
    {
     "data": {
      "text/plain": [
       "[(5, 3), (2, 4), (12, 56)]"
      ]
     },
     "execution_count": 39,
     "metadata": {},
     "output_type": "execute_result"
    }
   ],
   "source": [
    "lst.sort(key = lambda x: x[1])\n",
    "lst"
   ]
  },
  {
   "cell_type": "markdown",
   "metadata": {},
   "source": [
    "### Challenge:\n",
    "Write a Python function to print the even numbers from a given list\n",
    "* input = [1 ,2, 4, 3, 5, 6]\n",
    "* output = 2, 4, 6"
   ]
  },
  {
   "cell_type": "code",
   "execution_count": 46,
   "metadata": {},
   "outputs": [
    {
     "name": "stdout",
     "output_type": "stream",
     "text": [
      "2 4 6 "
     ]
    }
   ],
   "source": [
    "foobar = [1 , 2, 4, 3, 5, 6]\n",
    "def print_even(lst: list):\n",
    "    for i in lst:\n",
    "        if i%2 == 0:\n",
    "            print(i, end=' ')\n",
    "\n",
    "print_even(foobar)"
   ]
  },
  {
   "cell_type": "markdown",
   "metadata": {},
   "source": [
    "### Challenge:\n",
    "Write a function that takes a list and returns a new list with unique elements of the first list\n",
    "* input = [1, 2, 3, 1, 2, 4]\n",
    "* output = [1, 2, 3, 4]"
   ]
  },
  {
   "cell_type": "code",
   "execution_count": 52,
   "metadata": {},
   "outputs": [
    {
     "name": "stdout",
     "output_type": "stream",
     "text": [
      "{1, 2, 3, 4}\n",
      "[1, 2, 3, 4]\n"
     ]
    }
   ],
   "source": [
    "foobar = [1, 2, 3, 1, 2, 4]\n",
    "def print_unique(arg1):\n",
    "    s1 = set(arg1)\n",
    "    print(s1)\n",
    "    lst = list(s1)\n",
    "    print(lst)\n",
    "\n",
    "\n",
    "print_unique(foobar)"
   ]
  },
  {
   "cell_type": "markdown",
   "metadata": {},
   "source": [
    "### Arguments vs Parameters\n",
    "* Parameters: Values we pass while **defining** a functoin\n",
    "* Arguments: Actual values passed when **calling** a function"
   ]
  }
 ],
 "metadata": {
  "kernelspec": {
   "display_name": ".venv",
   "language": "python",
   "name": "python3"
  },
  "language_info": {
   "codemirror_mode": {
    "name": "ipython",
    "version": 3
   },
   "file_extension": ".py",
   "mimetype": "text/x-python",
   "name": "python",
   "nbconvert_exporter": "python",
   "pygments_lexer": "ipython3",
   "version": "3.10.11"
  }
 },
 "nbformat": 4,
 "nbformat_minor": 2
}
