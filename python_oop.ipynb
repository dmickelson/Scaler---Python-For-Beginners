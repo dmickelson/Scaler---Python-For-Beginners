{
 "cells": [
  {
   "cell_type": "markdown",
   "metadata": {},
   "source": [
    "# OOPs\n",
    "* Object oriented projects\n",
    "* 4 pillars apart from Class and Object\n",
    "* Class have attributes and behavious\n",
    "* Objects - instantiation of a Class\n",
    "* Encapsulation\n",
    "* Abstraction\n",
    "* Polymorphism\n",
    "* Inheritance\n",
    "\n",
    "## Abstraction"
   ]
  },
  {
   "cell_type": "code",
   "execution_count": null,
   "metadata": {},
   "outputs": [],
   "source": []
  }
 ],
 "metadata": {
  "language_info": {
   "name": "python"
  }
 },
 "nbformat": 4,
 "nbformat_minor": 2
}
