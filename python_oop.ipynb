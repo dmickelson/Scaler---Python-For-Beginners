{
 "cells": [
  {
   "cell_type": "markdown",
   "metadata": {},
   "source": [
    "# OOPs\n",
    "* Object oriented projects\n",
    "* 4 pillars apart from Class and Object\n",
    "* Class have attributes and behavious\n",
    "* Objects - instantiation of a Class\n",
    "* Encapsulation\n",
    "* Abstraction\n",
    "* Polymorphism\n",
    "* Inheritance\n",
    "\n",
    "## Abstraction\n",
    "* Abstraction means displaying only essential information and hiding the details.\n",
    "* Example: cars accelerate but internal working of engine is hidden under hood\n",
    "\n",
    "## Encapsulation\n",
    "* Bundling data and functions into a singlue unit\n",
    "\n",
    "## Inheritance\n",
    "* When a class derives from another class\n",
    "* A car type Toyota inherits from a base class Car\n",
    "\n",
    "## Polymorphism\n",
    "* Polymorphism means having many forms\n",
    "* Same Class can have many different Objects\n",
    "* Same single class method can work differently for different objects\n",
    "    * ie Print(int), and Print(str), and Print(List). Same method working differently for different objects\n",
    "\n"
   ]
  },
  {
   "cell_type": "code",
   "execution_count": null,
   "metadata": {},
   "outputs": [],
   "source": []
  },
  {
   "cell_type": "markdown",
   "metadata": {},
   "source": [
    "### Creating Class\n",
    "* Blueprint to create objects\n",
    "* 'class' keyword\n",
    "* Convention is to start with a Capital letter\n"
   ]
  },
  {
   "cell_type": "code",
   "execution_count": 1,
   "metadata": {},
   "outputs": [],
   "source": [
    "class Car:\n",
    "    pass"
   ]
  },
  {
   "cell_type": "markdown",
   "metadata": {},
   "source": [
    "### Objects\n",
    "* Objects are **instances** or **entities** of a class\n",
    "* It has the **properties** of it's class\n"
   ]
  },
  {
   "cell_type": "code",
   "execution_count": 3,
   "metadata": {},
   "outputs": [
    {
     "data": {
      "text/plain": [
       "__main__.Car"
      ]
     },
     "execution_count": 3,
     "metadata": {},
     "output_type": "execute_result"
    }
   ],
   "source": [
    "myCar = Car()\n",
    "type(myCar)\n"
   ]
  },
  {
   "cell_type": "markdown",
   "metadata": {},
   "source": [
    "### Class Constructor\n",
    "* Dunder, Double Under __init__(self)\n",
    "* Constructor is a special method used to create and initialize an Object of a class\n",
    "* This method is defined in the class\n",
    "* Automatically executed at the time of Object creation"
   ]
  },
  {
   "cell_type": "code",
   "execution_count": 6,
   "metadata": {},
   "outputs": [],
   "source": [
    "class Car:\n",
    "    def __init__(self):\n",
    "        print(\" This will print on construction\")"
   ]
  },
  {
   "cell_type": "code",
   "execution_count": 7,
   "metadata": {},
   "outputs": [
    {
     "name": "stdout",
     "output_type": "stream",
     "text": [
      " This will print on construction\n"
     ]
    }
   ],
   "source": [
    "myCar = Car()"
   ]
  },
  {
   "cell_type": "code",
   "execution_count": 21,
   "metadata": {},
   "outputs": [],
   "source": [
    "class Car:\n",
    "    # class level. All cars have 4 wheels\n",
    "    num_wheels = 4\n",
    "    def __init__(self, color, max_speed):\n",
    "        # Attaching properties to Object level\n",
    "        self.color = color\n",
    "        self.max_speed = max_speed\n",
    "        print(\" This will print on construction\", color, max_speed, self.num_wheels)"
   ]
  },
  {
   "cell_type": "code",
   "execution_count": 22,
   "metadata": {},
   "outputs": [
    {
     "name": "stdout",
     "output_type": "stream",
     "text": [
      " This will print on construction red 100 4\n",
      " This will print on construction blue 60 4\n",
      "red\n",
      "4\n",
      "blue\n",
      "4\n"
     ]
    }
   ],
   "source": [
    "myCar = Car(\"red\", 100)\n",
    "myOtherCar = Car(\"blue\", 60)\n",
    "print(myCar.color)\n",
    "print(myCar.num_wheels)\n",
    "print(myOtherCar.color)\n",
    "print(myOtherCar.num_wheels)"
   ]
  },
  {
   "cell_type": "markdown",
   "metadata": {},
   "source": [
    "### Methods\n",
    "* Make your own custoom methods\n",
    "* **Must** include 'self' param i.e. **def method_name(self)**"
   ]
  },
  {
   "cell_type": "code",
   "execution_count": 43,
   "metadata": {},
   "outputs": [
    {
     "name": "stdout",
     "output_type": "stream",
     "text": [
      " This will print on construction red 100 4\n",
      "<class 'method'>\n",
      "vroom vroom i am going 100\n"
     ]
    }
   ],
   "source": [
    "class Car:\n",
    "    '''Car Class Docstring'''\n",
    "    # class level. All cars have 4 wheels\n",
    "    num_wheels = 4\n",
    "    def __init__(self, color, max_speed):\n",
    "        # Attaching properties to Object level\n",
    "        self.color = color\n",
    "        self.max_speed = max_speed\n",
    "        print(\" This will print on construction\", color, max_speed, self.num_wheels)\n",
    "    \n",
    "    def drive(self):\n",
    "        ''' Go fast'''\n",
    "        print(f'vroom vroom i am going {self.max_speed}')\n",
    "\n",
    "my_car = Car('red', 100)\n",
    "print(type(my_car.drive))\n",
    "my_car.drive()"
   ]
  },
  {
   "cell_type": "markdown",
   "metadata": {},
   "source": [
    "Can change the attributes as well"
   ]
  },
  {
   "cell_type": "code",
   "execution_count": 44,
   "metadata": {},
   "outputs": [
    {
     "name": "stdout",
     "output_type": "stream",
     "text": [
      "vroom vroom i am going 110\n"
     ]
    }
   ],
   "source": [
    "my_car.max_speed = 110 # upgrading car\n",
    "my_car.drive()"
   ]
  },
  {
   "cell_type": "markdown",
   "metadata": {},
   "source": [
    "You can pass the method itself as a pointer"
   ]
  },
  {
   "cell_type": "code",
   "execution_count": 45,
   "metadata": {},
   "outputs": [
    {
     "name": "stdout",
     "output_type": "stream",
     "text": [
      "vroom vroom i am going 110\n"
     ]
    }
   ],
   "source": [
    "# Pass pointer to method\n",
    "my_car_drive = my_car.drive\n",
    "my_car_drive()"
   ]
  },
  {
   "cell_type": "markdown",
   "metadata": {},
   "source": [
    "### Class Variable\n",
    "* Common to the Class, common to all Objects of that class"
   ]
  },
  {
   "cell_type": "code",
   "execution_count": 46,
   "metadata": {},
   "outputs": [
    {
     "name": "stdout",
     "output_type": "stream",
     "text": [
      "Population: 1\n",
      "Population: 1\n",
      "1\n",
      "0\n"
     ]
    }
   ],
   "source": [
    "class Human:\n",
    "    # class variables\n",
    "    population = 0\n",
    "\n",
    "    # constructor\n",
    "    def __init__(self, name, age):\n",
    "        # object attributes\n",
    "        self.name = name\n",
    "        self.age = age\n",
    "        # THIS WONT WORK\n",
    "        self.population += 1\n",
    "        print(f\"Population: {self.population}\")\n",
    "\n",
    "    def greet(self):\n",
    "        print(f\"Hello, my name is {self.name}\")\n",
    "\n",
    "\n",
    "per1 = Human(\"david\", 55)\n",
    "per2 = Human(\"bear\", 3)\n",
    "print(per1.population)\n",
    "print(Human.population)"
   ]
  },
  {
   "cell_type": "code",
   "execution_count": 47,
   "metadata": {},
   "outputs": [
    {
     "name": "stdout",
     "output_type": "stream",
     "text": [
      "Population: 1\n",
      "Population: 2\n",
      "2\n",
      "2\n",
      "Population: 3\n",
      "3\n",
      "3\n",
      "['david', 'bear', 'john']\n"
     ]
    }
   ],
   "source": [
    "class Human:\n",
    "    # class variables\n",
    "    population = 0\n",
    "    data = []\n",
    "\n",
    "    # constructor\n",
    "    def __init__(self, name, age):\n",
    "        # object attributes\n",
    "        self.name = name\n",
    "        self.age = age\n",
    "        # Have to refer to Class Name\n",
    "        Human.population += 1\n",
    "        Human.data.append(self.name)\n",
    "        print(f\"Population: {Human.population}\")\n",
    "\n",
    "    def greet(self):\n",
    "        print(f\"Hello, my name is {self.name}\")\n",
    "\n",
    "\n",
    "per1 = Human(\"david\", 55)\n",
    "per2 = Human(\"bear\", 3)\n",
    "print(per1.population)\n",
    "print(Human.population)\n",
    "per3 = Human(\"john\", 15)\n",
    "print(Human.population)\n",
    "print(per3.population)\n",
    "print(Human.data)"
   ]
  },
  {
   "cell_type": "markdown",
   "metadata": {},
   "source": [
    "### Class Methods"
   ]
  },
  {
   "cell_type": "code",
   "execution_count": 51,
   "metadata": {},
   "outputs": [
    {
     "name": "stdout",
     "output_type": "stream",
     "text": [
      "Population: 1\n",
      "Population: 2\n",
      "2\n",
      "2\n",
      "Population: 3\n",
      "3\n",
      "3\n",
      "['david', 'bear', 'john']\n"
     ]
    }
   ],
   "source": [
    "class Human:\n",
    "    # class variables\n",
    "    population = 0\n",
    "    data = []\n",
    "\n",
    "    # constructor\n",
    "    def __init__(self, name, age):\n",
    "        # object attributes\n",
    "        self.name = name\n",
    "        self.age = age\n",
    "        self.alive = True\n",
    "        # Have to refer to Class Name\n",
    "        Human.population += 1\n",
    "        Human.data.append(self.name)\n",
    "        print(f\"Population: {Human.population}\")\n",
    "\n",
    "    # methods\n",
    "    def greet(self):\n",
    "        print(f\"Hello, my name is {self.name}\")\n",
    "\n",
    "    def dead(self):\n",
    "        if self.alive:\n",
    "            Human.population -= 1\n",
    "            self.alive = False\n",
    "        else:\n",
    "            print(\"this person is already dead\")\n",
    "\n",
    "\n",
    "per1 = Human(\"david\", 55)\n",
    "per2 = Human(\"bear\", 3)\n",
    "print(per1.population)\n",
    "print(Human.population)\n",
    "per3 = Human(\"john\", 15)\n",
    "print(Human.population)\n",
    "print(per3.population)\n",
    "print(Human.data)"
   ]
  },
  {
   "cell_type": "markdown",
   "metadata": {},
   "source": [
    "### Inheritance from Super Class to Derived Class\n",
    "* When a **child** or **derived** class derives attributes and methods from **super**, **parent** or **base** class\n",
    "* child class can access parent methods and attributes (no private in Python)\n",
    "* helps with reusability"
   ]
  },
  {
   "cell_type": "code",
   "execution_count": 54,
   "metadata": {},
   "outputs": [
    {
     "name": "stdout",
     "output_type": "stream",
     "text": [
      "Population: 4\n",
      "4\n",
      "['david', 'bear', 'john', 'john']\n"
     ]
    }
   ],
   "source": [
    "class Employee(Human):\n",
    "    # this calls Super class __init__\n",
    "    pass\n",
    "\n",
    "\n",
    "emp1 = Employee('john', 16)\n",
    "print(Human.population)\n",
    "print(Human.data)"
   ]
  },
  {
   "cell_type": "code",
   "execution_count": 57,
   "metadata": {},
   "outputs": [
    {
     "name": "stdout",
     "output_type": "stream",
     "text": [
      "Employee init john\n",
      "4\n",
      "['david', 'bear', 'john', 'john']\n"
     ]
    }
   ],
   "source": [
    "class Employee(Human):\n",
    "    # this calls Super class __init__\n",
    "    def __init__(self, name):\n",
    "        # By default, doesnt call Base class constructor\n",
    "        print(f'Employee init {name}')\n",
    "\n",
    "\n",
    "emp1 = Employee('john')\n",
    "# print(emp1.age) # wont work unless calling Base class Human constructor\n",
    "print(Human.population)\n",
    "print(Human.data)"
   ]
  },
  {
   "cell_type": "code",
   "execution_count": 60,
   "metadata": {},
   "outputs": [
    {
     "name": "stdout",
     "output_type": "stream",
     "text": [
      "Population: 6\n",
      "Employee init john msft\n",
      "35\n",
      "6\n",
      "['david', 'bear', 'john', 'john', 'john', 'john']\n"
     ]
    }
   ],
   "source": [
    "class Employee(Human):\n",
    "    # this calls Base class __init__\n",
    "    def __init__(self, name, age, company, post):\n",
    "        # re-initiates Super constructor\n",
    "        super().__init__(name, age)\n",
    "        self.company = company\n",
    "        self.post = post\n",
    "        print(f'Employee init {self.name} {self.company}')\n",
    "\n",
    "\n",
    "emp1 = Employee('john', 35, 'msft', 'eng')\n",
    "print(emp1.age)\n",
    "print(Human.population)\n",
    "print(Human.data)"
   ]
  },
  {
   "cell_type": "markdown",
   "metadata": {},
   "source": [
    "### Polymorphism\n",
    "* Means having many forms\n",
    "* **Functional-level** polymorphism\n",
    "    * same **Function** works different for different types of objects.\n",
    "        * len(str), len(list), len(object)\n",
    "* **Object-level** polymorphism\n",
    "    * Same operator can work differently for different objects\n",
    "        * Using '+' behaves differently: 2+2=4 vs '2'+'2'='22'\n",
    "        * int + int vs 'str'+'str'"
   ]
  },
  {
   "cell_type": "code",
   "execution_count": 63,
   "metadata": {},
   "outputs": [
    {
     "data": {
      "text/plain": [
       "24"
      ]
     },
     "execution_count": 63,
     "metadata": {},
     "output_type": "execute_result"
    }
   ],
   "source": [
    "def mul(*args):\n",
    "    total = 1\n",
    "    for i in args:\n",
    "        total *= i\n",
    "    return total\n",
    "\n",
    "mul(4, 2 , 3)"
   ]
  }
 ],
 "metadata": {
  "kernelspec": {
   "display_name": ".venv",
   "language": "python",
   "name": "python3"
  },
  "language_info": {
   "codemirror_mode": {
    "name": "ipython",
    "version": 3
   },
   "file_extension": ".py",
   "mimetype": "text/x-python",
   "name": "python",
   "nbconvert_exporter": "python",
   "pygments_lexer": "ipython3",
   "version": "3.10.11"
  }
 },
 "nbformat": 4,
 "nbformat_minor": 2
}
