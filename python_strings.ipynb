{
 "cells": [
  {
   "cell_type": "markdown",
   "metadata": {},
   "source": [
    "# String\n",
    "* Can be defined using single, double or triple quotes.\n",
    "* Use TRIPLE single or double quotes for multi-line"
   ]
  },
  {
   "cell_type": "code",
   "execution_count": 103,
   "metadata": {},
   "outputs": [
    {
     "data": {
      "text/plain": [
       "False"
      ]
     },
     "execution_count": 103,
     "metadata": {},
     "output_type": "execute_result"
    }
   ],
   "source": [
    "\"David\" == \"John\""
   ]
  },
  {
   "cell_type": "code",
   "execution_count": 104,
   "metadata": {},
   "outputs": [
    {
     "data": {
      "text/plain": [
       "' Hello\\nThere\\n'"
      ]
     },
     "execution_count": 104,
     "metadata": {},
     "output_type": "execute_result"
    }
   ],
   "source": [
    "''' Hello\n",
    "There\n",
    "'''"
   ]
  },
  {
   "cell_type": "markdown",
   "metadata": {},
   "source": [
    "### unicode charaacters\n",
    "ASCII => unicode"
   ]
  },
  {
   "cell_type": "code",
   "execution_count": 105,
   "metadata": {},
   "outputs": [
    {
     "data": {
      "text/plain": [
       "str"
      ]
     },
     "execution_count": 105,
     "metadata": {},
     "output_type": "execute_result"
    }
   ],
   "source": [
    "s = \"David\"\n",
    "type (s)"
   ]
  },
  {
   "cell_type": "code",
   "execution_count": 106,
   "metadata": {},
   "outputs": [
    {
     "data": {
      "text/plain": [
       "str"
      ]
     },
     "execution_count": 106,
     "metadata": {},
     "output_type": "execute_result"
    }
   ],
   "source": [
    "s1='''Multiline \n",
    "David'''\n",
    "type(s1)"
   ]
  },
  {
   "cell_type": "markdown",
   "metadata": {},
   "source": [
    "### Ord and Chr\n",
    "Unicode Encoding and Decoding\n",
    "* The ord() function returns the number representing the unicode code of a specified character.\n",
    "* The chr() function returns the character that represents the specified unicode."
   ]
  },
  {
   "cell_type": "code",
   "execution_count": 107,
   "metadata": {},
   "outputs": [
    {
     "name": "stdout",
     "output_type": "stream",
     "text": [
      "97\n",
      "65\n",
      "122\n",
      "90\n"
     ]
    }
   ],
   "source": [
    "print(ord(\"a\"))\n",
    "print(ord(\"A\"))\n",
    "print(ord(\"z\"))\n",
    "print(ord(\"Z\"))"
   ]
  },
  {
   "cell_type": "code",
   "execution_count": 108,
   "metadata": {},
   "outputs": [
    {
     "name": "stdout",
     "output_type": "stream",
     "text": [
      "a\n",
      "A\n",
      "z\n",
      "Z\n",
      "ट\n",
      "6\n",
      "<class 'str'>\n"
     ]
    }
   ],
   "source": [
    "print(chr(97))\n",
    "print(chr(65))\n",
    "print(chr(122))\n",
    "print(chr(90))\n",
    "print(chr(2335))\n",
    "print(chr(54)) # String repr of a number 6\n",
    "print(type(chr(54)))"
   ]
  },
  {
   "cell_type": "markdown",
   "metadata": {},
   "source": [
    "### Indexing a String"
   ]
  },
  {
   "cell_type": "markdown",
   "metadata": {},
   "source": []
  },
  {
   "cell_type": "code",
   "execution_count": 109,
   "metadata": {},
   "outputs": [],
   "source": [
    "name = \"John Smith\"\n"
   ]
  },
  {
   "cell_type": "code",
   "execution_count": 110,
   "metadata": {},
   "outputs": [
    {
     "data": {
      "text/plain": [
       "10"
      ]
     },
     "execution_count": 110,
     "metadata": {},
     "output_type": "execute_result"
    }
   ],
   "source": [
    "len(name)"
   ]
  },
  {
   "cell_type": "markdown",
   "metadata": {},
   "source": [
    "accessing character through indexing\n",
    "* Strings are a list and iterable"
   ]
  },
  {
   "cell_type": "code",
   "execution_count": 111,
   "metadata": {},
   "outputs": [
    {
     "data": {
      "text/plain": [
       "'J'"
      ]
     },
     "execution_count": 111,
     "metadata": {},
     "output_type": "execute_result"
    }
   ],
   "source": [
    "name[0]"
   ]
  },
  {
   "cell_type": "code",
   "execution_count": 112,
   "metadata": {},
   "outputs": [
    {
     "name": "stdout",
     "output_type": "stream",
     "text": [
      "J\n",
      "o\n",
      "h\n",
      "n\n",
      " \n",
      "S\n",
      "m\n",
      "i\n",
      "t\n",
      "h\n"
     ]
    }
   ],
   "source": [
    "for c in name:\n",
    "    print(c)"
   ]
  },
  {
   "cell_type": "code",
   "execution_count": 113,
   "metadata": {},
   "outputs": [
    {
     "data": {
      "text/plain": [
       "'h'"
      ]
     },
     "execution_count": 113,
     "metadata": {},
     "output_type": "execute_result"
    }
   ],
   "source": [
    "# negative indexing from end of iterator\n",
    "name[-1]"
   ]
  },
  {
   "cell_type": "code",
   "execution_count": 114,
   "metadata": {},
   "outputs": [
    {
     "data": {
      "text/plain": [
       "'t'"
      ]
     },
     "execution_count": 114,
     "metadata": {},
     "output_type": "execute_result"
    }
   ],
   "source": [
    "name[-2]"
   ]
  },
  {
   "cell_type": "markdown",
   "metadata": {},
   "source": [
    "### String Slicing\n",
    "[starting: end: jump]"
   ]
  },
  {
   "cell_type": "code",
   "execution_count": 115,
   "metadata": {},
   "outputs": [
    {
     "name": "stdout",
     "output_type": "stream",
     "text": [
      "John Smith\n",
      "10\n"
     ]
    }
   ],
   "source": [
    "print(name)\n",
    "print(len(name))"
   ]
  },
  {
   "cell_type": "code",
   "execution_count": 116,
   "metadata": {},
   "outputs": [
    {
     "name": "stdout",
     "output_type": "stream",
     "text": [
      "J\n",
      "h\n"
     ]
    }
   ],
   "source": [
    "print(name[0])\n",
    "print(name[-1])"
   ]
  },
  {
   "cell_type": "code",
   "execution_count": 117,
   "metadata": {},
   "outputs": [
    {
     "data": {
      "text/plain": [
       "'Joh'"
      ]
     },
     "execution_count": 117,
     "metadata": {},
     "output_type": "execute_result"
    }
   ],
   "source": [
    "name[0:3]"
   ]
  },
  {
   "cell_type": "code",
   "execution_count": 118,
   "metadata": {},
   "outputs": [
    {
     "data": {
      "text/plain": [
       "'Smit'"
      ]
     },
     "execution_count": 118,
     "metadata": {},
     "output_type": "execute_result"
    }
   ],
   "source": [
    "name[5:9]"
   ]
  },
  {
   "cell_type": "code",
   "execution_count": 119,
   "metadata": {},
   "outputs": [
    {
     "data": {
      "text/plain": [
       "'Smit'"
      ]
     },
     "execution_count": 119,
     "metadata": {},
     "output_type": "execute_result"
    }
   ],
   "source": [
    "name[5:-1] # Using negative index"
   ]
  },
  {
   "cell_type": "code",
   "execution_count": 120,
   "metadata": {},
   "outputs": [
    {
     "data": {
      "text/plain": [
       "''"
      ]
     },
     "execution_count": 120,
     "metadata": {},
     "output_type": "execute_result"
    }
   ],
   "source": [
    "name[5:0]"
   ]
  },
  {
   "cell_type": "code",
   "execution_count": 121,
   "metadata": {},
   "outputs": [
    {
     "data": {
      "text/plain": [
       "'John Smith'"
      ]
     },
     "execution_count": 121,
     "metadata": {},
     "output_type": "execute_result"
    }
   ],
   "source": [
    "name[:] # Gives back the whole string"
   ]
  },
  {
   "cell_type": "code",
   "execution_count": 122,
   "metadata": {},
   "outputs": [
    {
     "data": {
      "text/plain": [
       "'Smith'"
      ]
     },
     "execution_count": 122,
     "metadata": {},
     "output_type": "execute_result"
    }
   ],
   "source": [
    "name[5:] # did not give 'end'"
   ]
  },
  {
   "cell_type": "code",
   "execution_count": 123,
   "metadata": {},
   "outputs": [
    {
     "data": {
      "text/plain": [
       "'Jh mt'"
      ]
     },
     "execution_count": 123,
     "metadata": {},
     "output_type": "execute_result"
    }
   ],
   "source": [
    "#start, end, jump\n",
    "name[::2]"
   ]
  },
  {
   "cell_type": "code",
   "execution_count": 124,
   "metadata": {},
   "outputs": [
    {
     "data": {
      "text/plain": [
       "'htimS nhoJ'"
      ]
     },
     "execution_count": 124,
     "metadata": {},
     "output_type": "execute_result"
    }
   ],
   "source": [
    "# BACKWARDS\n",
    "name[::-1]"
   ]
  },
  {
   "cell_type": "code",
   "execution_count": 125,
   "metadata": {},
   "outputs": [
    {
     "data": {
      "text/plain": [
       "'htimS nho'"
      ]
     },
     "execution_count": 125,
     "metadata": {},
     "output_type": "execute_result"
    }
   ],
   "source": [
    "name[-1:0:-1]"
   ]
  },
  {
   "cell_type": "code",
   "execution_count": 126,
   "metadata": {},
   "outputs": [
    {
     "data": {
      "text/plain": [
       "'htimS nhoJ'"
      ]
     },
     "execution_count": 126,
     "metadata": {},
     "output_type": "execute_result"
    }
   ],
   "source": [
    "# This is whats going on for a full BACKWARDS output\n",
    "name[-1: -(len(name)+1): -1]"
   ]
  },
  {
   "cell_type": "markdown",
   "metadata": {},
   "source": [
    "### String Methods\n",
    "* capitalize\n",
    "* title\n",
    "* upper, lower\n",
    "* find\n",
    "* count\n",
    "* index\n",
    "* replace\n",
    "* split\n",
    "* islower, isupper, isnumeric, isalpha\n",
    "\n"
   ]
  },
  {
   "cell_type": "code",
   "execution_count": 127,
   "metadata": {},
   "outputs": [
    {
     "name": "stdout",
     "output_type": "stream",
     "text": [
      "john smith\n"
     ]
    }
   ],
   "source": [
    "name = \"john smith\" # changed case\n",
    "print(name)"
   ]
  },
  {
   "cell_type": "code",
   "execution_count": 128,
   "metadata": {},
   "outputs": [
    {
     "name": "stdout",
     "output_type": "stream",
     "text": [
      "John Smith\n",
      "John smith\n",
      "JOHN SMITH\n",
      "john smith\n",
      "False\n",
      "True\n",
      "True\n",
      "False\n",
      "False\n",
      "David.isalpha: True\n",
      "False\n",
      "True\n"
     ]
    }
   ],
   "source": [
    "print(name.title())\n",
    "print(name.capitalize())\n",
    "print(name.upper())\n",
    "print(name.lower())\n",
    "print(name.isupper())\n",
    "print(\"D\".isupper())\n",
    "print(name.islower())\n",
    "print(name.isalnum())\n",
    "print(name.isalpha())\n",
    "print(f'David.isalpha: {\"David\".isalpha()}')\n",
    "print(name.isnumeric())\n",
    "print(\"123\".isnumeric()) # recognizes this string number as a number"
   ]
  },
  {
   "cell_type": "code",
   "execution_count": 129,
   "metadata": {},
   "outputs": [
    {
     "name": "stdout",
     "output_type": "stream",
     "text": [
      "\u001b[1;31mDocstring:\u001b[0m\n",
      "S.find(sub[, start[, end]]) -> int\n",
      "\n",
      "Return the lowest index in S where substring sub is found,\n",
      "such that sub is contained within S[start:end].  Optional\n",
      "arguments start and end are interpreted as in slice notation.\n",
      "\n",
      "Return -1 on failure.\n",
      "\u001b[1;31mType:\u001b[0m      builtin_function_or_method"
     ]
    }
   ],
   "source": [
    "name.find?"
   ]
  },
  {
   "cell_type": "code",
   "execution_count": 130,
   "metadata": {},
   "outputs": [
    {
     "data": {
      "text/plain": [
       "5"
      ]
     },
     "execution_count": 130,
     "metadata": {},
     "output_type": "execute_result"
    }
   ],
   "source": [
    "name.find(\"s\")"
   ]
  },
  {
   "cell_type": "code",
   "execution_count": 131,
   "metadata": {},
   "outputs": [
    {
     "name": "stdout",
     "output_type": "stream",
     "text": [
      "1\n",
      "0\n"
     ]
    }
   ],
   "source": [
    "print(name.count(\"s\"))\n",
    "print(name.count(\"T\")) # case sensitive"
   ]
  },
  {
   "cell_type": "code",
   "execution_count": 132,
   "metadata": {},
   "outputs": [
    {
     "data": {
      "text/plain": [
       "'john smXth'"
      ]
     },
     "execution_count": 132,
     "metadata": {},
     "output_type": "execute_result"
    }
   ],
   "source": [
    "name.replace(\"i\",\"X\")"
   ]
  },
  {
   "cell_type": "code",
   "execution_count": 133,
   "metadata": {},
   "outputs": [
    {
     "name": "stdout",
     "output_type": "stream",
     "text": [
      "john\n",
      "smith\n"
     ]
    }
   ],
   "source": [
    "firstname,lastname = name.split(\" \") # creates a new list\n",
    "print(firstname)\n",
    "print(lastname)"
   ]
  },
  {
   "cell_type": "markdown",
   "metadata": {},
   "source": [
    "### String Formatting\n",
    "Different string printing methods"
   ]
  },
  {
   "cell_type": "code",
   "execution_count": 134,
   "metadata": {},
   "outputs": [
    {
     "name": "stdout",
     "output_type": "stream",
     "text": [
      "My name is John . And my age is 30\n"
     ]
    }
   ],
   "source": [
    "name = \"John\"\n",
    "age = \"30\" #string age\n",
    "\n",
    "print (\"My name is\", name,\". And my age is\", age)"
   ]
  },
  {
   "cell_type": "code",
   "execution_count": 135,
   "metadata": {},
   "outputs": [
    {
     "name": "stdout",
     "output_type": "stream",
     "text": [
      "My name is John. And my age is 30\n"
     ]
    }
   ],
   "source": [
    "# Format String\n",
    "print (\"My name is {}. And my age is {}\".format(name,age))"
   ]
  },
  {
   "cell_type": "code",
   "execution_count": 136,
   "metadata": {},
   "outputs": [
    {
     "name": "stdout",
     "output_type": "stream",
     "text": [
      "My name is John And my age is 30\n"
     ]
    }
   ],
   "source": [
    "# Same as Format, Format String, F-string :)\n",
    "print(f\"My name is {name} And my age is {age}\")"
   ]
  },
  {
   "cell_type": "markdown",
   "metadata": {},
   "source": [
    "### String concatenation"
   ]
  },
  {
   "cell_type": "code",
   "execution_count": 138,
   "metadata": {},
   "outputs": [
    {
     "data": {
      "text/plain": [
       "('john', 'smith')"
      ]
     },
     "execution_count": 138,
     "metadata": {},
     "output_type": "execute_result"
    }
   ],
   "source": [
    "firstname, lastname"
   ]
  },
  {
   "cell_type": "code",
   "execution_count": 139,
   "metadata": {},
   "outputs": [
    {
     "name": "stdout",
     "output_type": "stream",
     "text": [
      "johnsmith\n"
     ]
    }
   ],
   "source": [
    "print(firstname+lastname)"
   ]
  },
  {
   "cell_type": "code",
   "execution_count": 140,
   "metadata": {},
   "outputs": [
    {
     "data": {
      "text/plain": [
       "'aaa'"
      ]
     },
     "execution_count": 140,
     "metadata": {},
     "output_type": "execute_result"
    }
   ],
   "source": [
    "\"a\"*3"
   ]
  },
  {
   "cell_type": "code",
   "execution_count": 141,
   "metadata": {},
   "outputs": [
    {
     "name": "stdout",
     "output_type": "stream",
     "text": [
      "22\n",
      "4\n"
     ]
    }
   ],
   "source": [
    "print(\"2\"+\"2\")\n",
    "print(2+2)"
   ]
  },
  {
   "cell_type": "markdown",
   "metadata": {},
   "source": [
    "### Print all vowels of a given string"
   ]
  },
  {
   "cell_type": "code",
   "execution_count": 142,
   "metadata": {},
   "outputs": [],
   "source": [
    "text=\"The quick brown fox jumps over the lazy dog\""
   ]
  },
  {
   "cell_type": "code",
   "execution_count": 146,
   "metadata": {},
   "outputs": [
    {
     "name": "stdout",
     "output_type": "stream",
     "text": [
      "e \n",
      "e \n",
      "u \n",
      "u \n",
      "i \n",
      "i \n",
      "o \n",
      "o \n",
      "o \n",
      "o \n",
      "u \n",
      "u \n",
      "o \n",
      "o \n",
      "e \n",
      "e \n",
      "e \n",
      "e \n",
      "a \n",
      "a \n",
      "o \n",
      "o \n"
     ]
    }
   ],
   "source": [
    "for i in text:\n",
    "    if i in (\"a\",\"e\",\"i\",\"o\",\"u\"):\n",
    "        print(i, end=\" \")\n",
    "        print()\n",
    "    # same way\n",
    "    if i == \"a\" or i==\"e\" or i==\"i\" or i==\"o\" or i==\"u\":\n",
    "        print(i, end=\" \")\n",
    "        print()\n",
    "    "
   ]
  },
  {
   "cell_type": "markdown",
   "metadata": {},
   "source": [
    "### Find if a string is pallindrome\n",
    "* a pallindrome if a string is the same forward or backward\n",
    "* ie 'radar'"
   ]
  },
  {
   "cell_type": "code",
   "execution_count": 151,
   "metadata": {},
   "outputs": [
    {
     "name": "stdout",
     "output_type": "stream",
     "text": [
      "radar is a pallindrome of radar\n"
     ]
    }
   ],
   "source": [
    "# my approach is simply to reverse the string and compare equal\n",
    "# ignore case in this example\n",
    "text='radar'\n",
    "revtext = text[::-1]\n",
    "if text == revtext:\n",
    "    print(f\"{text} is a pallindrome of {revtext}\")\n",
    "else:\n",
    "    print(f\"{text} is not a pallindrome of {revtext}\")"
   ]
  },
  {
   "cell_type": "markdown",
   "metadata": {},
   "source": [
    "Length of unique words\n",
    "Problem Description:\n",
    "\n",
    "Given two sentences, write a program to return the sum of the total number of unique words from each sentence.\n",
    "If a word is present in both sentences it should be counted separately for both sentences."
   ]
  },
  {
   "cell_type": "code",
   "execution_count": 176,
   "metadata": {},
   "outputs": [
    {
     "name": "stdout",
     "output_type": "stream",
     "text": [
      "sent1_split ['in', 'data', 'analysis', 'we', 'use', 'data', 'and', 'process', 'it', 'further', 'to', 'create', 'better', 'interpreted', 'data']\n",
      "sent2_split ['more', 'and', 'more', 'data', 'will', 'be', 'passively', 'collected']\n",
      "unique_list1 ['in', 'analysis', 'we', 'use', 'and', 'process', 'it', 'further', 'to', 'create', 'better', 'interpreted', 'data']\n",
      "unique_list2 ['and', 'more', 'data', 'will', 'be', 'passively', 'collected']\n",
      "20\n"
     ]
    }
   ],
   "source": [
    "def set_operation(sent1:str, sent2:str):\n",
    "    ''' input:sent1,sent2-two sentences taken as inputs\n",
    "        output:return the sum of length of unique words.'''\n",
    "    unique_count=0\n",
    "    unique_count1=0\n",
    "    unique_count2=0\n",
    "    sent1_split = sent1.split(\" \")\n",
    "    unique_list1=[]\n",
    "    sent2_split = sent2.split(\" \")\n",
    "    unique_list2=[]\n",
    "    # print(\"found words\")\n",
    "    counter=1\n",
    "    for sent1_word in sent1_split:\n",
    "        if not sent1_word in sent1_split[counter:]:\n",
    "            unique_count1 += 1\n",
    "            unique_list1.append(sent1_word)\n",
    "            # print(f\"{sent1_word}\", end=\" \")\n",
    "        else:\n",
    "            pass\n",
    "            # sent1_split.remove(sent1_word)\n",
    "        counter +=1\n",
    "    counter = 1\n",
    "    for sent2_word in sent2_split:\n",
    "        if not sent2_word in sent2_split[counter:]:\n",
    "            unique_count2 += 1\n",
    "            unique_list2.append(sent2_word)\n",
    "            # print(f\"{sent2_word}\", end=\" \")\n",
    "        else:\n",
    "            pass\n",
    "            # sent2_split.remove(sent2_word)\n",
    "        counter +=1\n",
    "    # print()\n",
    "    print(f\"sent1_split {sent1_split}\")\n",
    "    print(f\"sent2_split {sent2_split}\")\n",
    "    print(f\"unique_list1 {unique_list1}\")\n",
    "    print(f\"unique_list2 {unique_list2}\")\n",
    "    # unique_count1 = len(sent1_split)\n",
    "    # unique_count2 = len(sent2_split)\n",
    "    # print(unique_count1)\n",
    "    # print(unique_count2)\n",
    "    unique_count = unique_count1 + unique_count2\n",
    "    return unique_count\n",
    "\n",
    "\n",
    "sent1 = \"in data analysis we use data and process it further to create better interpreted data\"\n",
    "sent2 = \"more and more data will be passively collected\"\n",
    "print(set_operation(sent1, sent2))"
   ]
  }
 ],
 "metadata": {
  "kernelspec": {
   "display_name": ".venv",
   "language": "python",
   "name": "python3"
  },
  "language_info": {
   "codemirror_mode": {
    "name": "ipython",
    "version": 3
   },
   "file_extension": ".py",
   "mimetype": "text/x-python",
   "name": "python",
   "nbconvert_exporter": "python",
   "pygments_lexer": "ipython3",
   "version": "3.10.11"
  }
 },
 "nbformat": 4,
 "nbformat_minor": 2
}
